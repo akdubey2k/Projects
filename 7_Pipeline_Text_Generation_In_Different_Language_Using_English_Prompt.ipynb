{
  "nbformat": 4,
  "nbformat_minor": 0,
  "metadata": {
    "colab": {
      "provenance": [],
      "gpuType": "T4"
    },
    "kernelspec": {
      "name": "python3",
      "display_name": "Python 3"
    },
    "language_info": {
      "name": "python"
    },
    "accelerator": "GPU"
  },
  "cells": [
    {
      "cell_type": "markdown",
      "source": [
        "# mBART-50 many to many multilingual machine translation\n",
        "This model is a fine-tuned checkpoint of [**mBART-large-50**](https://huggingface.co/facebook/mbart-large-50). **`mbart-large-50-many-to-many-mmt`** is fine-tuned for multilingual machine translation. It was introduced in [**Multilingual Translation with Extensible Multilingual Pretraining and Finetuning paper**.](https://arxiv.org/abs/2008.00401)\n",
        "\n",
        "The model can translate directly between any pair of **50 languages**. To translate into a target language, the **target language id** is forced as the **first generated token**. To force the **target language id** as the **first generated token**, pass the **`forced_bos_token_id`** parameter to the generate method."
      ],
      "metadata": {
        "id": "Mhk1lvJZLn7h"
      }
    },
    {
      "cell_type": "markdown",
      "source": [
        "* For **multilingual generation**, you need a **causal LM** trained on many languages (e.g. ***XGLM, BLOOM, mGPT***).\n",
        "* These models don’t **“auto-translate”** but *continue text in the target language if you nudge them.*\n",
        "* You can enforce the language by:\n",
        "  - Adding a language instruction in the prompt (e.g., “Write in Hindi: ...”)\n",
        "  - Or using a **translation model** if you want exact translation."
      ],
      "metadata": {
        "id": "nn1LRBA3NX8d"
      }
    },
    {
      "cell_type": "code",
      "source": [
        "from transformers import pipeline\n",
        "\n",
        "# Load the multilingual translation pipeline (mBART)\n",
        "translator = pipeline(\"translation\", model=\"facebook/mbart-large-50-many-to-many-mmt\")"
      ],
      "metadata": {
        "colab": {
          "base_uri": "https://localhost:8080/"
        },
        "id": "H--XbYTDH5it",
        "outputId": "309dfc29-d770-4abe-b31a-5954b00e062a"
      },
      "execution_count": 1,
      "outputs": [
        {
          "output_type": "stream",
          "name": "stderr",
          "text": [
            "/usr/local/lib/python3.12/dist-packages/huggingface_hub/utils/_auth.py:94: UserWarning: \n",
            "The secret `HF_TOKEN` does not exist in your Colab secrets.\n",
            "To authenticate with the Hugging Face Hub, create a token in your settings tab (https://huggingface.co/settings/tokens), set it as secret in your Google Colab and restart your session.\n",
            "You will be able to reuse this secret in all of your notebooks.\n",
            "Please note that authentication is recommended but still optional to access public models or datasets.\n",
            "  warnings.warn(\n",
            "Device set to use cuda:0\n"
          ]
        }
      ]
    },
    {
      "cell_type": "code",
      "source": [
        "# English → Hindi\n",
        "hindi_prompt = \"India is a great country and has a rich culture.\"\n",
        "hindi_output = translator(hindi_prompt, src_lang=\"en_XX\", tgt_lang=\"hi_IN\")\n",
        "print(\"Hindi Output:\\n\", hindi_output[0]['translation_text'])\n",
        "\n",
        "# English → Spanish\n",
        "spanish_prompt = \"Artificial intelligence is changing the future of technology.\"\n",
        "spanish_output = translator(spanish_prompt, src_lang=\"en_XX\", tgt_lang=\"es_XX\")\n",
        "print(\"\\nSpanish Output:\\n\", spanish_output[0]['translation_text'])\n",
        "\n",
        "# English → French\n",
        "french_prompt = \"The future of technology is full of exciting opportunities.\"\n",
        "french_output = translator(french_prompt, src_lang=\"en_XX\", tgt_lang=\"fr_XX\")\n",
        "print(\"\\nFrench Output:\\n\", french_output[0]['translation_text'])\n"
      ],
      "metadata": {
        "colab": {
          "base_uri": "https://localhost:8080/"
        },
        "id": "tN9oq-6xRfP8",
        "outputId": "16549bb5-f5f5-42b4-9a5d-039f94ec7132"
      },
      "execution_count": 2,
      "outputs": [
        {
          "output_type": "stream",
          "name": "stdout",
          "text": [
            "Hindi Output:\n",
            " भारत एक महान देश है और इसकी समृद्ध संस्कृति है।\n",
            "\n",
            "Spanish Output:\n",
            " La inteligencia artificial está cambiando el futuro de la tecnología.\n",
            "\n",
            "French Output:\n",
            " L'avenir de la technologie est plein d'opportunités intéressantes.\n"
          ]
        }
      ]
    }
  ]
}