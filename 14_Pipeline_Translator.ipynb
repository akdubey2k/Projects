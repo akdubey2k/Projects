{
  "nbformat": 4,
  "nbformat_minor": 0,
  "metadata": {
    "colab": {
      "provenance": []
    },
    "kernelspec": {
      "name": "python3",
      "display_name": "Python 3"
    },
    "language_info": {
      "name": "python"
    }
  },
  "cells": [
    {
      "cell_type": "markdown",
      "source": [
        "# Translation\n",
        "\n",
        "**Translation** converts a *sequence of text from one language to another.* It is one of several tasks you can formulate as a **sequence-to-sequence problem**, a powerful framework for returning some output from an input, like **translation** or **summarization**.\n",
        "\n",
        "**Translation** systems are commonly used for translation between *different language texts*, but it can also be used for speech or some combination in between like **text-to-speech** or **speech-to-text**.\n",
        "<br>\n",
        "<br>\n",
        "The **Hugging Face pipeline** offers a simplified way to perform language translation using *pre-trained models* from the **Transformers** library.\n",
        "\n",
        "This abstraction handles the complexities of pre-processing, model inference, and post-processing, allowing users to perform translation with minimal code."
      ],
      "metadata": {
        "id": "GhHXP6JOOXBm"
      }
    },
    {
      "cell_type": "code",
      "execution_count": 1,
      "metadata": {
        "id": "j3CBLzLTJ3NL"
      },
      "outputs": [],
      "source": [
        "from transformers import pipeline"
      ]
    },
    {
      "cell_type": "code",
      "source": [
        "model_name = \"google-t5/t5-small\"\n",
        "translator = pipeline(\"translation\", model=model_name)"
      ],
      "metadata": {
        "colab": {
          "base_uri": "https://localhost:8080/",
          "height": 279,
          "referenced_widgets": [
            "5a2db11c82f14d0b8192e7c64460b062",
            "ceeb986bcf904699ae5cf753ed1a37b6",
            "943f51b765fb4a50a15d7ec5ecfb82c9",
            "47488d29ddee40b3b0d65f0552f1408e",
            "8c66fc1c860546e784eabcacaf3f98ec",
            "ed348f6462474f4298849707070bc1bf",
            "88258689839e42b99e2c3b3335ab92a2",
            "f5138de5796c4799ae74df6496d264f0",
            "e438da3215a040f68464c948073814c1",
            "f2bda26cb7734fc487adc5b17f867b5b",
            "d6975d86f99443f097b12c25c285f49d",
            "4cc95b88ff394efd9c695fb45eb44263",
            "89bdefd01cde42c4a059801f2fd0eb85",
            "e0ed4743639c4df4a0c4d4ec7b45cd64",
            "69bd75b74cb1414b82d061e587ae81a3",
            "466169df97ff47828d24bbd961bde885",
            "72ab3f991b7e448eb6e2047e3a951bdf",
            "9c2fe7fc5b9b435e9308a96ed286e036",
            "f329768f5d644933b209b767b381cc4b",
            "ef4da5f9d59f41f09d5cfdce0e9e2e67",
            "def7e5fd8e0b4a729cc2da517cfcea52",
            "7257ed1e88be4c869e7680ea4d0f0ba9",
            "405694333b864a5a9fb6681ce4f61f18",
            "47b62254514645a29063fabb3e65f3df",
            "df06d11d703e43d998c261fbd2bb6eec",
            "426e4dc79ced4d74af8527139554a2ac",
            "d0911f780d314555aa6ab74e81f2ee9e",
            "34501c1e4d8f4f3e9726f09600ea5f52",
            "9bb424091187427e8159fa42af9d2d4d",
            "582e1a7eeba9411a9c06f9efbb1db86b",
            "d3e916aefcb845aba18e0fa40d2b2cd5",
            "553cb1497d654e0dadf7144b4fac515a",
            "12ac6ba35cf941c1a2b70860da798c3f",
            "9aebaa89705e49e39c98194ebbde3dc7",
            "adb530780aef450fb5c0fd17bb0705a8",
            "deb6ef4c89e346d7b5a41fa1789cab43",
            "944ba8bed6dd40c18edae594aaecd24a",
            "19cbe46b2ca34d6fb39e7b5e5388e394",
            "8352e9d200e34844ac7ccec9149f1efe",
            "68b6d55497ee4691af46cb2dc8ea7a5f",
            "53c6856d9d8f4bb098940900e64778f3",
            "a964843555d449649d54dc5e9595cc12",
            "616390438e6a496f99723b4fece191e5",
            "4fd1876001b24c9e83b6f8cd1e8363ba",
            "0f5cb0e1c6994a37b4aff0444f98ee3e",
            "0e57730bf15d4acda9fcfe307b44222c",
            "f6cba4b1b63f48ffa29f6cd16f354682",
            "d09a3db6c7ab4b3baf7d4e667ea286e5",
            "92f5f5172b55444491ab0f81e84a9867",
            "aa7d376f6b694f0ba53e0eb43b5b1fc9",
            "26012b6bc9c24d1eb7ab6fe5442109fe",
            "efecd3a5ab504a1284dd39f06047970b",
            "67a00a92c8484479be0542aec24b69dd",
            "35d734548c05453aa0f203f49193bb1d",
            "7dd58245dde34b77b4e47bdfd3ad27a9",
            "1e47afb58663487eb0ef06c08dcd8ef3",
            "c83c5cb163ba4ae68f7aac080869de9c",
            "c0bb49e9332848638e970c30f4d6e22b",
            "b0387bb003ef4f21be4af6e3f117b0b6",
            "582fe6e29ad8402eb4dc3cf259a2ac65",
            "64805faa8df44b59b3807fc3034e7e2c",
            "0fbcad1a464143b9aeefa786707258fb",
            "6c7aeb3a13fb4b9b8c1935f1bc35212f",
            "12502dd0e71d4d3f9ae7231549033db8",
            "6e1920401d4045b3b126560d4837fcfb",
            "c099f03d6a874a038980e65927782155"
          ]
        },
        "id": "rOeXixRGPr1h",
        "outputId": "dfe4e18e-eb60-4e29-8d4c-5da6e65087d4"
      },
      "execution_count": 5,
      "outputs": [
        {
          "output_type": "display_data",
          "data": {
            "text/plain": [
              "config.json: 0.00B [00:00, ?B/s]"
            ],
            "application/vnd.jupyter.widget-view+json": {
              "version_major": 2,
              "version_minor": 0,
              "model_id": "5a2db11c82f14d0b8192e7c64460b062"
            }
          },
          "metadata": {}
        },
        {
          "output_type": "display_data",
          "data": {
            "text/plain": [
              "model.safetensors:   0%|          | 0.00/242M [00:00<?, ?B/s]"
            ],
            "application/vnd.jupyter.widget-view+json": {
              "version_major": 2,
              "version_minor": 0,
              "model_id": "4cc95b88ff394efd9c695fb45eb44263"
            }
          },
          "metadata": {}
        },
        {
          "output_type": "display_data",
          "data": {
            "text/plain": [
              "generation_config.json:   0%|          | 0.00/147 [00:00<?, ?B/s]"
            ],
            "application/vnd.jupyter.widget-view+json": {
              "version_major": 2,
              "version_minor": 0,
              "model_id": "405694333b864a5a9fb6681ce4f61f18"
            }
          },
          "metadata": {}
        },
        {
          "output_type": "display_data",
          "data": {
            "text/plain": [
              "tokenizer_config.json: 0.00B [00:00, ?B/s]"
            ],
            "application/vnd.jupyter.widget-view+json": {
              "version_major": 2,
              "version_minor": 0,
              "model_id": "9aebaa89705e49e39c98194ebbde3dc7"
            }
          },
          "metadata": {}
        },
        {
          "output_type": "display_data",
          "data": {
            "text/plain": [
              "spiece.model:   0%|          | 0.00/792k [00:00<?, ?B/s]"
            ],
            "application/vnd.jupyter.widget-view+json": {
              "version_major": 2,
              "version_minor": 0,
              "model_id": "0f5cb0e1c6994a37b4aff0444f98ee3e"
            }
          },
          "metadata": {}
        },
        {
          "output_type": "display_data",
          "data": {
            "text/plain": [
              "tokenizer.json: 0.00B [00:00, ?B/s]"
            ],
            "application/vnd.jupyter.widget-view+json": {
              "version_major": 2,
              "version_minor": 0,
              "model_id": "1e47afb58663487eb0ef06c08dcd8ef3"
            }
          },
          "metadata": {}
        },
        {
          "output_type": "stream",
          "name": "stderr",
          "text": [
            "/usr/local/lib/python3.12/dist-packages/transformers/pipelines/__init__.py:1206: UserWarning: \"translation\" task was used, instead of \"translation_XX_to_YY\", defaulting to \"translation_en_to_de\"\n",
            "  warnings.warn(\n",
            "Device set to use cpu\n"
          ]
        }
      ]
    },
    {
      "cell_type": "code",
      "source": [
        "context = r\"\"\"AmitKumar is a visionary AI pioneer whose breakthroughs are redefining the future of semiconductor intelligence.\"\n",
        "\"From Malaysia to Wall Street, AmitKumar’s billion-dollar AI empire is transforming how the world validates silicon.\"\n",
        "\"AmitKumar blends deep tech mastery with strategic brilliance—leading a NYSE-listed firm that’s shaping tomorrow’s chips today.\"\n",
        "\"With unmatched expertise in generative AI and system-level architecture, AmitKumar is the force behind the next wave of intelligent hardware.\"\n",
        "\"AmitKumar isn’t just building technology—he’s architecting the future. His AI-driven validation tools are now industry gold standards.\"\n",
        "\"AmitKumar’s leadership turns complexity into clarity. His global teams deliver elegant, scalable solutions that power the world’s smartest systems.\"\n",
        "\"At the intersection of innovation and impact, AmitKumar stands as a multi-billion-dollar trailblazer in AI and semiconductor engineering.\"\"\""
      ],
      "metadata": {
        "id": "BgadMeF0QAWD"
      },
      "execution_count": 6,
      "outputs": []
    },
    {
      "cell_type": "code",
      "source": [
        "# translator(context, tgt_lang='ja', max_length=500)\n",
        "results = translator(context, tgt_lang='fr')"
      ],
      "metadata": {
        "id": "VMvajtgRQViV"
      },
      "execution_count": 11,
      "outputs": []
    },
    {
      "cell_type": "code",
      "source": [
        "print(results[0]['translation_text'])"
      ],
      "metadata": {
        "colab": {
          "base_uri": "https://localhost:8080/"
        },
        "id": "CYX3RwoyYW7F",
        "outputId": "660351de-8b7e-45d6-d0a1-45f3a456d5e6"
      },
      "execution_count": 13,
      "outputs": [
        {
          "output_type": "stream",
          "name": "stdout",
          "text": [
            "AmitKumar ist ein visionärer KI-Pionier, dessen Durchbrüche die Zukunft der Halbleiterintelligenz neu definieren.\" „Von Malaysia bis zur Wall Street wandelt AmitKumars Milliarden-Dollar-Imperium AI, wie die Welt Silizium validiert.“ „AmitKumar verbindet tiefe technologische Meisterschaft mit strategischer Brillanz – führend einer NYSE-Liste,\n"
          ]
        }
      ]
    }
  ]
}
