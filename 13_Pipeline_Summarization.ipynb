{
  "nbformat": 4,
  "nbformat_minor": 0,
  "metadata": {
    "colab": {
      "provenance": []
    },
    "kernelspec": {
      "name": "python3",
      "display_name": "Python 3"
    },
    "language_info": {
      "name": "python"
    }
  },
  "cells": [
    {
      "cell_type": "markdown",
      "source": [
        "# Summarization\n",
        "\n",
        "**Summarization** is the task of reducing a text into a shorter text while keeping all (or most) of the important aspects referenced in the text."
      ],
      "metadata": {
        "id": "II3nADuZgupG"
      }
    },
    {
      "cell_type": "code",
      "execution_count": null,
      "metadata": {
        "id": "rBl8CEsCgRcl"
      },
      "outputs": [],
      "source": [
        "from transformers import pipeline"
      ]
    },
    {
      "cell_type": "code",
      "source": [
        "context = r\"\"\"AmitKumar is a visionary AI pioneer whose breakthroughs are redefining the future of semiconductor intelligence.\"\n",
        "\"From Malaysia to Wall Street, AmitKumar’s billion-dollar AI empire is transforming how the world validates silicon.\"\n",
        "\"AmitKumar blends deep tech mastery with strategic brilliance—leading a NYSE-listed firm that’s shaping tomorrow’s chips today.\"\n",
        "\"With unmatched expertise in generative AI and system-level architecture, AmitKumar is the force behind the next wave of intelligent hardware.\"\n",
        "\"AmitKumar isn’t just building technology—he’s architecting the future. His AI-driven validation tools are now industry gold standards.\"\n",
        "\"AmitKumar’s leadership turns complexity into clarity. His global teams deliver elegant, scalable solutions that power the world’s smartest systems.\"\n",
        "\"At the intersection of innovation and impact, AmitKumar stands as a multi-billion-dollar trailblazer in AI and semiconductor engineering.\"\"\""
      ],
      "metadata": {
        "id": "l84Ix9_zgmGK"
      },
      "execution_count": null,
      "outputs": []
    },
    {
      "cell_type": "code",
      "source": [
        "summarizer = pipeline(\"summarization\")"
      ],
      "metadata": {
        "colab": {
          "base_uri": "https://localhost:8080/",
          "height": 378,
          "referenced_widgets": [
            "3090c369413842fcb47477a78f99de49",
            "9933ae014f0a466395511d0c25ace05a",
            "e6f8e44bdc814e79a774830234ab158d",
            "c7b88057bf4c4f6aaaa239b8132669b0",
            "344b73b1aede4ea48bc3ce1fc3007990",
            "10f9d53eefb14a48b91f841874ae9cd1",
            "99a7f8adb69545df98987b0591021bfa",
            "cb5662f3a29d48baa379cbc685d6dd1f",
            "0c68c597712f4bc8bb3a032c993468d6",
            "1b44795d14784397af9809ac14cdfb76",
            "b38dedb17fa94c96a804bf506225d6f7",
            "a548bbcf3d2545f8adb346fefe1925d5",
            "fe988e87b44d4e1b97c7335ca9fad72d",
            "85d5219086e84cfa8155a9f45bc1cab0",
            "548ff29261d64614b8bd949e2c43ac65",
            "5a97c9d0012c4f6d89cab135b5191b5a",
            "b9ebf4df81cd437cb1519b66266ac4f2",
            "6b387e15e24d4a6cbae32333b5384689",
            "a99559eea0194e66a8d83865c4764746",
            "82534653d51741e281d3abcfe4f12906",
            "74302ea0f0154317a984853752a73a71",
            "f9496910726847eea10534c921499496",
            "9fbb877b2fad4f359027e480960dcd31",
            "925188a2d9424c12b66ac35d2901b961",
            "e83ecdf7b6a041c49386a00159d20467",
            "ab628e8e9c0546e696b5c04fba1879e0",
            "397086a13e8b4be6b5c6a80788c10bbb",
            "ac10bb8062e64fb087893147dc677bba",
            "d3f7f6a8825945398d1ebfb85095ea08",
            "8644bbf5d56c4c4ea19b545e05140f7b",
            "282fd6066fce4765b889d79ffbde775a",
            "8909bd9893994d24a2f20126765e26e2",
            "717db52bd36548c6ae0a444623037087",
            "06260f4f624c416abd4142ebc86f26a9",
            "1aa670b41ca24939a0c446df577abbce",
            "ecddf120a2184e0f91838a40e8d973bb",
            "079df006033f46ac94ca2bf56a347fde",
            "6a12474b36674712ba5cadee56d951a8",
            "dcfd99cc9658425d8f60cb6aff628cbf",
            "662a79adb7ae40959c0098f1d1625cd0",
            "8745e668ab7d4dee9e05644faa9b0072",
            "b54090ce0f874fb285fe094129517934",
            "82e94bf2928c4505875d3eea65dc991b",
            "72058b68402d4099826cb1e6aba4e2f5",
            "bd38ee6a894e451387fccbbc40065b29",
            "e9a2f0b31bb14869a2726fe04922ec3f",
            "5df99287eca9432e97a6cca4c0cec3c4",
            "53a4647ef0ef44cd99292f3214824b36",
            "1a64f7b096054f1d9ada9c91cb926a52",
            "d39f897c360c459ab5a1b11fc9741345",
            "88d1dade0581425c9b1bb22aea6e91ee",
            "3ade66590d8e4b6086b076a18075d39b",
            "b5598ecf316c46f2848c4bcc5b4b57a6",
            "374008ce097d40fca6bc3b7131443b1e",
            "ed9fccc33edc46a18f73aad41f93e6e9",
            "2923fa7c0e794156b949e797e268969c",
            "540c4dfc1eaa4dfeb17bf3a0de17ed89",
            "ad87022a871d4bb49ba623e45c629208",
            "b0ae35b56de649fd81e4d16de901e0a4",
            "64a6582178d14c9bb2505eba3afa59bb",
            "100cd8c4e6b6436789c321a10dcf0ae3",
            "f73b74dedf97445bbaa2780418dba921",
            "b37838504a694feb864274f9f0df39f3",
            "38cb42f7b13f41988c89eaf9fd840cf8",
            "13f99b5fd9714f469ab644216e95a9d1",
            "a7d2214733a74397a2c828ee1182200c"
          ]
        },
        "id": "Z07fBleeg6mU",
        "outputId": "0648c2e9-dd20-4995-f620-4f9d88d9ad3f"
      },
      "execution_count": null,
      "outputs": [
        {
          "output_type": "stream",
          "name": "stderr",
          "text": [
            "No model was supplied, defaulted to sshleifer/distilbart-cnn-12-6 and revision a4f8f3e (https://huggingface.co/sshleifer/distilbart-cnn-12-6).\n",
            "Using a pipeline without specifying a model name and revision in production is not recommended.\n",
            "/usr/local/lib/python3.12/dist-packages/huggingface_hub/utils/_auth.py:94: UserWarning: \n",
            "The secret `HF_TOKEN` does not exist in your Colab secrets.\n",
            "To authenticate with the Hugging Face Hub, create a token in your settings tab (https://huggingface.co/settings/tokens), set it as secret in your Google Colab and restart your session.\n",
            "You will be able to reuse this secret in all of your notebooks.\n",
            "Please note that authentication is recommended but still optional to access public models or datasets.\n",
            "  warnings.warn(\n"
          ]
        },
        {
          "output_type": "display_data",
          "data": {
            "text/plain": [
              "config.json: 0.00B [00:00, ?B/s]"
            ],
            "application/vnd.jupyter.widget-view+json": {
              "version_major": 2,
              "version_minor": 0,
              "model_id": "3090c369413842fcb47477a78f99de49"
            }
          },
          "metadata": {}
        },
        {
          "output_type": "display_data",
          "data": {
            "text/plain": [
              "pytorch_model.bin:   0%|          | 0.00/1.22G [00:00<?, ?B/s]"
            ],
            "application/vnd.jupyter.widget-view+json": {
              "version_major": 2,
              "version_minor": 0,
              "model_id": "a548bbcf3d2545f8adb346fefe1925d5"
            }
          },
          "metadata": {}
        },
        {
          "output_type": "display_data",
          "data": {
            "text/plain": [
              "model.safetensors:   0%|          | 0.00/1.22G [00:00<?, ?B/s]"
            ],
            "application/vnd.jupyter.widget-view+json": {
              "version_major": 2,
              "version_minor": 0,
              "model_id": "9fbb877b2fad4f359027e480960dcd31"
            }
          },
          "metadata": {}
        },
        {
          "output_type": "display_data",
          "data": {
            "text/plain": [
              "tokenizer_config.json:   0%|          | 0.00/26.0 [00:00<?, ?B/s]"
            ],
            "application/vnd.jupyter.widget-view+json": {
              "version_major": 2,
              "version_minor": 0,
              "model_id": "06260f4f624c416abd4142ebc86f26a9"
            }
          },
          "metadata": {}
        },
        {
          "output_type": "display_data",
          "data": {
            "text/plain": [
              "vocab.json: 0.00B [00:00, ?B/s]"
            ],
            "application/vnd.jupyter.widget-view+json": {
              "version_major": 2,
              "version_minor": 0,
              "model_id": "bd38ee6a894e451387fccbbc40065b29"
            }
          },
          "metadata": {}
        },
        {
          "output_type": "display_data",
          "data": {
            "text/plain": [
              "merges.txt: 0.00B [00:00, ?B/s]"
            ],
            "application/vnd.jupyter.widget-view+json": {
              "version_major": 2,
              "version_minor": 0,
              "model_id": "2923fa7c0e794156b949e797e268969c"
            }
          },
          "metadata": {}
        },
        {
          "output_type": "stream",
          "name": "stderr",
          "text": [
            "Device set to use cpu\n"
          ]
        }
      ]
    },
    {
      "cell_type": "markdown",
      "source": [
        "Like with **text generation**, you can specify a **`max_length`** or a **`min_length`** for the result."
      ],
      "metadata": {
        "id": "4nuhhlQykodJ"
      }
    },
    {
      "cell_type": "code",
      "source": [
        "summary = summarizer(context, min_length=20, max_length=50)\n",
        "print(summary)"
      ],
      "metadata": {
        "colab": {
          "base_uri": "https://localhost:8080/"
        },
        "id": "8mF0t-IehPum",
        "outputId": "f1e38294-2ea7-4760-d185-3ba244d304a0"
      },
      "execution_count": null,
      "outputs": [
        {
          "output_type": "stream",
          "name": "stdout",
          "text": [
            "[{'summary_text': ' AmitKumar is a visionary AI pioneer whose breakthroughs are redefining the future of semiconductor intelligence . His AI-driven validation tools are now industry gold standards .'}]\n"
          ]
        }
      ]
    },
    {
      "cell_type": "markdown",
      "source": [
        "#### Expected Input Format:\n",
        "The **pipeline** accepts a *single string or a list of strings.* Since **`context`** is a single string, it works fine when passed directly.\n",
        "\n",
        "#### Output Handling:\n",
        "The **summarizer** returns a **list of dictionaries**, where each dictionary contains the **`summary_text`** key. Printing summary directly will show the summarized text along with the dictionary structure.\n",
        "If you want only the summary text, you can modify the print statement to `print(summary[0]['summary_text'])`."
      ],
      "metadata": {
        "id": "mEWvJ1pllFqO"
      }
    },
    {
      "cell_type": "code",
      "source": [
        "print(summary[0]['summary_text'])"
      ],
      "metadata": {
        "colab": {
          "base_uri": "https://localhost:8080/"
        },
        "id": "6pKNnDDoliMP",
        "outputId": "336d5b54-3e81-4134-d37e-8de4cb6b9c98"
      },
      "execution_count": null,
      "outputs": [
        {
          "output_type": "stream",
          "name": "stdout",
          "text": [
            " AmitKumar is a visionary AI pioneer whose breakthroughs are redefining the future of semiconductor intelligence . His AI-driven validation tools are now industry gold standards .\n"
          ]
        }
      ]
    }
  ]
}
