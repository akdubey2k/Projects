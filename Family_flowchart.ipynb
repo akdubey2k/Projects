{
  "nbformat": 4,
  "nbformat_minor": 0,
  "metadata": {
    "colab": {
      "provenance": []
    },
    "kernelspec": {
      "name": "python3",
      "display_name": "Python 3"
    },
    "language_info": {
      "name": "python"
    }
  },
  "cells": [
    {
      "cell_type": "code",
      "source": [
        "!pip install graphviz"
      ],
      "metadata": {
        "colab": {
          "base_uri": "https://localhost:8080/"
        },
        "id": "9yy6558ACCPr",
        "outputId": "14755c25-f477-4686-fdac-ab193b91b25f"
      },
      "execution_count": 1,
      "outputs": [
        {
          "output_type": "stream",
          "name": "stdout",
          "text": [
            "Requirement already satisfied: graphviz in /usr/local/lib/python3.10/dist-packages (0.20.3)\n"
          ]
        }
      ]
    },
    {
      "cell_type": "code",
      "source": [
        "!pip install pyflowchart"
      ],
      "metadata": {
        "colab": {
          "base_uri": "https://localhost:8080/"
        },
        "id": "YymmJ7NNoxm3",
        "outputId": "831018f0-c237-4990-dc60-e303c3b19cde"
      },
      "execution_count": null,
      "outputs": [
        {
          "output_type": "stream",
          "name": "stdout",
          "text": [
            "Collecting pyflowchart\n",
            "  Downloading pyflowchart-0.3.1-py3-none-any.whl (25 kB)\n",
            "Requirement already satisfied: astunparse in /usr/local/lib/python3.10/dist-packages (from pyflowchart) (1.6.3)\n",
            "Requirement already satisfied: chardet in /usr/local/lib/python3.10/dist-packages (from pyflowchart) (5.2.0)\n",
            "Requirement already satisfied: wheel<1.0,>=0.23.0 in /usr/local/lib/python3.10/dist-packages (from astunparse->pyflowchart) (0.43.0)\n",
            "Requirement already satisfied: six<2.0,>=1.6.1 in /usr/local/lib/python3.10/dist-packages (from astunparse->pyflowchart) (1.16.0)\n",
            "Installing collected packages: pyflowchart\n",
            "Successfully installed pyflowchart-0.3.1\n"
          ]
        }
      ]
    },
    {
      "cell_type": "markdown",
      "source": [
        "### [graphviz - API Reference](https://graphviz.readthedocs.io/en/stable/api.html)\n",
        "### [Digraph](https://graphviz.readthedocs.io/en/stable/api.html#graphviz.Digraph)"
      ],
      "metadata": {
        "id": "qOeXidU1pRvb"
      }
    },
    {
      "cell_type": "code",
      "execution_count": null,
      "metadata": {
        "id": "9tGMkOAY93Pv"
      },
      "outputs": [],
      "source": [
        "# Import the library\n",
        "import graphviz\n",
        "from graphviz import Digraph\n",
        "\n",
        "def create_flowchart():\n",
        "    # Create a Digraph object\n",
        "    dot = Digraph()\n",
        "\n",
        "    # Define the nodes\n",
        "    # The first argument is the node's \"unique identifier\", and\n",
        "    # the second argument is the node's \"label\" that will be displayed.\n",
        "    dot.node('A', 'Start')\n",
        "    dot.node('B', 'Step 1')\n",
        "    dot.node('C', 'Step 2')\n",
        "    dot.node('D', 'Step 3')\n",
        "    dot.node('E', 'End')\n",
        "\n",
        "    # Define the edges\n",
        "    # It creates directed edges between nodes. The arguments are the identifiers\n",
        "    # of the nodes you want to connect.\n",
        "    dot.edge('A', 'B')\n",
        "    dot.edge('B', 'C')\n",
        "    dot.edge('C', 'D')\n",
        "    dot.edge('D', 'E')\n",
        "\n",
        "    # Save the flowchart to a file\n",
        "    #  The format='png' argument specifies that the output file should be in PNG\n",
        "    # format, and cleanup=True removes temporary files created during the rendering process.\n",
        "    dot.view()\n",
        "    # dot.render('flowchart', format='png', cleanup=True)\n",
        "    # dot.view()\n",
        "    # g = graphviz.Digraph()\n",
        "    # g.view()\n",
        "\n",
        "# Generate the flowchart\n",
        "create_flowchart()\n"
      ]
    },
    {
      "cell_type": "markdown",
      "source": [
        "## Explanation:\n",
        "### 1. Function Definition:\n",
        "\n",
        "The **\"create_flowchart\"** function takes four parameters:\n",
        "* **nodes:** A list of tuples where each tuple contains the node ID and the label.\n",
        "* **edges:** A list of tuples where each tuple contains the start and end node IDs for the edges.\n",
        "* **filename:** The name of the output file (default is **'flowchart'**).\n",
        "* **file_format:** The format of the output file (default is **'png'**).\n",
        "\n",
        "### 2. Adding Nodes:\n",
        "The function iterates over the nodes list and adds each node to the graph using **dot.node().**\n",
        "\n",
        "### 3. Adding Edges:\n",
        "The function iterates over the edges list and adds each edge to the graph using **dot.edge().**\n",
        "\n",
        "### 4. Saving the Flowchart:\n",
        "The flowchart is saved to a file with the specified filename and file_format using dot.render().\n",
        "\n",
        "## Benefits:\n",
        "* **Reusability:** You can reuse this function for different flowcharts by simply changing the nodes and edges lists.\n",
        "* **Flexibility:** You can easily change the output file name and format by adjusting the parameters.\n",
        "* **Simplicity:** The code is clean and easy to understand, making it quick to modify and extend.\n",
        "\n",
        "This method ensures you can quickly generate a variety of flowcharts with minimal changes to the code."
      ],
      "metadata": {
        "id": "w5SHp1jFf5NA"
      }
    },
    {
      "cell_type": "code",
      "source": [
        "from graphviz import Digraph\n",
        "\n",
        "def create_flowchart(nodes, edges):\n",
        "    \"\"\"\n",
        "    Creates a flowchart with the given nodes and edges and displays it.\n",
        "\n",
        "    Parameters:\n",
        "    nodes (list): A list of tuples where each tuple contains (node_id, label).\n",
        "    edges (list): A list of tuples where each tuple contains (start_node_id, end_node_id).\n",
        "    \"\"\"\n",
        "    dot = Digraph()\n",
        "\n",
        "    # Add nodes to the graph\n",
        "    for node_id, label in nodes:\n",
        "        dot.node(node_id, label)\n",
        "\n",
        "    # Add edges to the graph\n",
        "    for start_node_id, end_node_id in edges:\n",
        "        dot.edge(start_node_id, end_node_id)\n",
        "\n",
        "    # Display the flowchart\n",
        "    # dot.view()\n",
        "    dot.render('family_flowchart', format='jpeg', cleanup=False, directory='/mnt/data/')\n",
        "\n",
        "# Example usage\n",
        "nodes = [\n",
        "    ('A', 'Kiran & Ramakant Dubey'),\n",
        "    ('B', 'Samta & Amit Dubey'),\n",
        "    ('C', 'Kanya & Sachin Dubey'),\n",
        "    ('D', 'Sapna & Ramakant U'),\n",
        "    ('E', 'Anshu & Priyanshu U'),\n",
        "    ('F', 'Karnika & Ananya'),\n",
        "    ('G', 'Advika & Alankrita')\n",
        "]\n",
        "\n",
        "edges = [\n",
        "    ('A', 'B'),\n",
        "    ('A', 'C'),\n",
        "    ('A', 'D'),\n",
        "    ('D', 'E'),\n",
        "    ('B', 'F'),\n",
        "    ('C', 'G')\n",
        "]\n",
        "\n",
        "create_flowchart(nodes, edges)\n"
      ],
      "metadata": {
        "id": "5eShorpdEQ1m"
      },
      "execution_count": null,
      "outputs": []
    },
    {
      "cell_type": "code",
      "source": [
        "import graphviz\n",
        "\n",
        "g = graphviz.Graph('G', filename='family.gv', engine='sfdp')\n",
        "\n",
        "g.edge('Delhi', 'Mumbai')\n",
        "g.edge('Delhi', 'Bengaluru')\n",
        "g.edge('Delhi', 'Hyderabad')\n",
        "g.edge('Delhi', 'Kolkata')\n",
        "g.edge('Delhi', 'Chennai')\n",
        "g.edge('Mumbai', 'Pune')\n",
        "g.edge('Mumbai', 'Delhi')\n",
        "g.edge('Mumbai', 'Hyderabad')\n",
        "g.edge('Mumbai', 'Bengaluru')\n",
        "g.edge('Mumbai', 'Kolkata')\n",
        "g.edge('Mumbai', 'Chennai')\n",
        "g.edge('Mumbai', 'Bengaluru')\n",
        "g.edge('Pune', 'Hyderabad')\n",
        "g.edge('Pune', 'Bengaluru')\n",
        "g.edge('Pune', 'Delhi')\n",
        "g.edge('Pune', 'Kolkata')\n",
        "g.edge('Bengaluru', 'Delhi')\n",
        "g.edge('Bengaluru', 'Mumbai')\n",
        "g.edge('Bengaluru', 'Pune')\n",
        "g.edge('Bengaluru', 'Kolkata')\n",
        "g.edge('Bengaluru', 'Hyderabad')\n",
        "g.edge('Bengaluru', 'Nagpur')\n",
        "g.edge('Bengaluru', 'Chennai')\n",
        "g.edge('Bengaluru', 'Raipur')\n",
        "g.edge('Hyderabad', 'Kolkata')\n",
        "g.edge('Secunderabad', 'Bengaluru')\n",
        "g.edge('Bengaluru', 'Chennai')\n",
        "g.edge('Chennai', 'Trivendum')\n",
        "g.edge('Trivendum', 'Madhurai')\n",
        "g.edge('Madhurai', 'Vishkapatnam')\n",
        "g.edge('Vishkapatnam', 'Bhubaneshwar')\n",
        "g.edge('Bhubaneshwar', 'Raipur')\n",
        "g.edge('Vishkapatnam', 'Kolkata')\n",
        "g.edge('Bhubaneshwar', 'Kolkata')\n",
        "g.edge('Raipur', 'Nagpur')\n",
        "g.edge('Nagpur', 'Pune')\n",
        "\n",
        "\n",
        "g.view()\n"
      ],
      "metadata": {
        "colab": {
          "base_uri": "https://localhost:8080/",
          "height": 35
        },
        "id": "Zp63uj47htVc",
        "outputId": "6529e111-387e-4992-9149-3750f409bc03"
      },
      "execution_count": null,
      "outputs": [
        {
          "output_type": "execute_result",
          "data": {
            "text/plain": [
              "'family.gv.pdf'"
            ],
            "application/vnd.google.colaboratory.intrinsic+json": {
              "type": "string"
            }
          },
          "metadata": {},
          "execution_count": 5
        }
      ]
    }
  ]
}