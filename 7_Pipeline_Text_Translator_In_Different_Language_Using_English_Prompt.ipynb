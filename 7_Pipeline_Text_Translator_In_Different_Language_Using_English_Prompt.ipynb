{
  "nbformat": 4,
  "nbformat_minor": 0,
  "metadata": {
    "colab": {
      "provenance": [],
      "gpuType": "V5E1"
    },
    "kernelspec": {
      "name": "python3",
      "display_name": "Python 3"
    },
    "language_info": {
      "name": "python"
    },
    "accelerator": "TPU"
  },
  "cells": [
    {
      "cell_type": "markdown",
      "source": [
        "# mBART-50 many to many multilingual machine translation\n",
        "This model is a fine-tuned checkpoint of [**mBART-large-50**](https://huggingface.co/facebook/mbart-large-50). **`mbart-large-50-many-to-many-mmt`** is fine-tuned for multilingual machine translation. It was introduced in [**Multilingual Translation with Extensible Multilingual Pretraining and Finetuning paper**.](https://arxiv.org/abs/2008.00401)\n",
        "\n",
        "The model can translate directly between any pair of **50 languages**. To translate into a target language, the **target language id** is forced as the **first generated token**. To force the **target language id** as the **first generated token**, pass the **`forced_bos_token_id`** parameter to the generate method."
      ],
      "metadata": {
        "id": "Mhk1lvJZLn7h"
      }
    },
    {
      "cell_type": "markdown",
      "source": [
        "* For **multilingual generation**, you need a **causal LM** trained on many languages (e.g. ***XGLM, BLOOM, mGPT***).\n",
        "* These models don’t **“auto-translate”** but *continue text in the target language if you nudge them.*\n",
        "* You can enforce the language by:\n",
        "  - Adding a language instruction in the prompt (e.g., “Write in Hindi: ...”)\n",
        "  - Or using a **translation model** if you want exact translation."
      ],
      "metadata": {
        "id": "nn1LRBA3NX8d"
      }
    },
    {
      "cell_type": "code",
      "source": [
        "from transformers import pipeline\n",
        "\n",
        "# Load the multilingual translation pipeline (mBART)\n",
        "translator = pipeline(\"translation\", model=\"facebook/mbart-large-50-many-to-many-mmt\")"
      ],
      "metadata": {
        "colab": {
          "base_uri": "https://localhost:8080/",
          "height": 411,
          "referenced_widgets": [
            "83423298900847a6b34528bd3e342947",
            "0ddfd3b825dc4e6a9520c670571b5e88",
            "63bd89d5e79c4b1b9cb98709c8c60fd9",
            "7ff5b2f6adee4d1c823122f3975726b9",
            "0e6910fa77024e89a0c83bfb64f99d9f",
            "010e6f79129542a3bff540d81a74bf09",
            "3a8f7bc5fefc4804b2fae0a557646e53",
            "946bee12f6984f469c87f58c49b258fe",
            "6e301f555c344156bddff9dbc6e057a9",
            "88bc3b4c25a24e96be0b8fecfab28fac",
            "6ae3fefd373747818717d1bcfe5b8268",
            "0adac2040dba40a19b472093ff2a5ad8",
            "8ae763c39c664ca19a6f28d976760242",
            "8e34c8ac773f4a49982427268829a326",
            "94446b0b992a42baa59625cfdb2bd095",
            "1db6053b0f2a40459cd75eca8fe391a4",
            "4e6975bd59294bdda3268cbeeec1a2bf",
            "d7beb5f377eb4ca89b3ce2623dd113ea",
            "4c22d553037a4ba297a7100ab657ea9c",
            "7e29ff63a34145c3b896b6c2aaa33631",
            "d55e3db75abd451895bef58cf3d2766d",
            "334caf4558bc4454bb5d50dc02e5ec6c",
            "be32783e02944ecda296b47ac80371a0",
            "fb38da1c7d544d05b7e19fd4afdaf456",
            "a99bb61f09774d27a456da82f31a6d2e",
            "e671869370cb4bcaadba938b521f9d0b",
            "5dc74bbea6cf4d3a82a3521131905aab",
            "334177138bf9458fa4f061e7eea3163f",
            "bbbc65c480c24ae3b98570ed0f452664",
            "fc6e60c316a744cda59d82cdc3b06606",
            "55de8550aac948ed834ac5caa27253d7",
            "15a20afb48b9499a9f14249a76d21e46",
            "f12fb2b5f8e548248ce3699f86af49b6",
            "0763d5fc50af4ba3b2821682f4090d2d",
            "0ba29275055647ff920a516745c8fbb3",
            "5a889938087b47e58f79f5f8bf2c9ee2",
            "3c853281237446549193c7acb599a128",
            "30d91fa2a8fe4728babf83e6d65d0197",
            "6254d379bca74467a27dcd79705a0243",
            "4c86cd867d5d41d4a270504b92d9877a",
            "f226ea727b1440338b424b4303b1dd25",
            "2d8aeee2b3ad4647b7be21ae76775c9e",
            "23fb6d8791a94251868641881be2eb7f",
            "e47e61c046584373a2f650f60e0c513b",
            "b5013282a1ea422c89bcc2a8bc0cc60c",
            "b5d5c5b088a045139de9f7eb8a20839c",
            "70eff091a1984a7686319bce5d8fe622",
            "dfc941cb0cd743979638d95a1cf16258",
            "b90adce4f38848489289211cabb24ea6",
            "5a8091ece4b640a98da1172518c0518b",
            "a1d1757cdc6b4e1bb99d3795eb7caf03",
            "e1eabd45fb52429aad195741b36f7d00",
            "5792ad26000d47879f69ceb486e48aea",
            "49b8ee05fc744f45b5305a4bf22ded55",
            "d65c404a7fa44b2fa5fce8ba70555ef1",
            "f039bd4a0d0f42a6a5185c5a12dd139e",
            "cee27854713d4d8eb37f76f5f4664cfa",
            "16771f4c6108484fb986796c2707b3f6",
            "b8e9349e49744b08af5a59d911c5f08c",
            "843f146c85ca4e03bfb0fd968c6fbdcd",
            "1826d5c0ac71482ea74889d485e949f2",
            "89d0511370134273aca059589da387a5",
            "40fd303cb2194b3e9715b9c16cafc3b5",
            "fa7ca5da72f0478c9db3dd0b96dddcd0",
            "e4152e1346cd49498c67b226ba2c77bc",
            "01f2785cd8194e4c808c8672342e7eeb"
          ]
        },
        "id": "H--XbYTDH5it",
        "outputId": "b6e397b2-546e-48d5-a69c-6121eff3b2d6"
      },
      "execution_count": 1,
      "outputs": [
        {
          "output_type": "stream",
          "name": "stderr",
          "text": [
            "/usr/local/lib/python3.12/dist-packages/jax/_src/cloud_tpu_init.py:82: UserWarning: Transparent hugepages are not enabled. TPU runtime startup and shutdown time should be significantly improved on TPU v5e and newer. If not already set, you may need to enable transparent hugepages in your VM image (sudo sh -c \"echo always > /sys/kernel/mm/transparent_hugepage/enabled\")\n",
            "  warnings.warn(\n",
            "/usr/local/lib/python3.12/dist-packages/torch_xla/experimental/gru.py:113: SyntaxWarning: invalid escape sequence '\\_'\n",
            "  * **h_n**: tensor of shape :math:`(D * \\text{num\\_layers}, H_{out})` or\n",
            "/usr/local/lib/python3.12/dist-packages/huggingface_hub/utils/_auth.py:94: UserWarning: \n",
            "The secret `HF_TOKEN` does not exist in your Colab secrets.\n",
            "To authenticate with the Hugging Face Hub, create a token in your settings tab (https://huggingface.co/settings/tokens), set it as secret in your Google Colab and restart your session.\n",
            "You will be able to reuse this secret in all of your notebooks.\n",
            "Please note that authentication is recommended but still optional to access public models or datasets.\n",
            "  warnings.warn(\n"
          ]
        },
        {
          "output_type": "display_data",
          "data": {
            "text/plain": [
              "config.json: 0.00B [00:00, ?B/s]"
            ],
            "application/vnd.jupyter.widget-view+json": {
              "version_major": 2,
              "version_minor": 0,
              "model_id": "83423298900847a6b34528bd3e342947"
            }
          },
          "metadata": {}
        },
        {
          "output_type": "display_data",
          "data": {
            "text/plain": [
              "model.safetensors:   0%|          | 0.00/2.44G [00:00<?, ?B/s]"
            ],
            "application/vnd.jupyter.widget-view+json": {
              "version_major": 2,
              "version_minor": 0,
              "model_id": "0adac2040dba40a19b472093ff2a5ad8"
            }
          },
          "metadata": {}
        },
        {
          "output_type": "display_data",
          "data": {
            "text/plain": [
              "generation_config.json:   0%|          | 0.00/261 [00:00<?, ?B/s]"
            ],
            "application/vnd.jupyter.widget-view+json": {
              "version_major": 2,
              "version_minor": 0,
              "model_id": "be32783e02944ecda296b47ac80371a0"
            }
          },
          "metadata": {}
        },
        {
          "output_type": "display_data",
          "data": {
            "text/plain": [
              "tokenizer_config.json:   0%|          | 0.00/529 [00:00<?, ?B/s]"
            ],
            "application/vnd.jupyter.widget-view+json": {
              "version_major": 2,
              "version_minor": 0,
              "model_id": "0763d5fc50af4ba3b2821682f4090d2d"
            }
          },
          "metadata": {}
        },
        {
          "output_type": "display_data",
          "data": {
            "text/plain": [
              "sentencepiece.bpe.model:   0%|          | 0.00/5.07M [00:00<?, ?B/s]"
            ],
            "application/vnd.jupyter.widget-view+json": {
              "version_major": 2,
              "version_minor": 0,
              "model_id": "b5013282a1ea422c89bcc2a8bc0cc60c"
            }
          },
          "metadata": {}
        },
        {
          "output_type": "display_data",
          "data": {
            "text/plain": [
              "special_tokens_map.json:   0%|          | 0.00/649 [00:00<?, ?B/s]"
            ],
            "application/vnd.jupyter.widget-view+json": {
              "version_major": 2,
              "version_minor": 0,
              "model_id": "f039bd4a0d0f42a6a5185c5a12dd139e"
            }
          },
          "metadata": {}
        },
        {
          "output_type": "stream",
          "name": "stderr",
          "text": [
            "Device set to use cpu\n"
          ]
        }
      ]
    },
    {
      "cell_type": "code",
      "source": [
        "# English → Hindi\n",
        "hindi_prompt = \"Amit exemplifies a dynamic leadership style, laser focused on outcome and fueled by infectious energy that drive team to exceed expectation.\"\n",
        "hindi_output = translator(hindi_prompt, src_lang=\"en_XX\", tgt_lang=\"hi_IN\")\n",
        "print(\"Hindi Output:\\n\", hindi_output[0]['translation_text'])\n",
        "\n",
        "# English → Spanish\n",
        "spanish_prompt = \"Amit exemplifies a dynamic leadership style, laser focused on outcome and fueled by infectious energy that drive team to exceed expectation.\"\n",
        "spanish_output = translator(spanish_prompt, src_lang=\"en_XX\", tgt_lang=\"es_XX\")\n",
        "print(\"\\nSpanish Output:\\n\", spanish_output[0]['translation_text'])\n",
        "\n",
        "# English → French\n",
        "french_prompt = \"Amit exemplifies a dynamic leadership style, laser focused on outcome and fueled by infectious energy that drive team to exceed expectation.\"\n",
        "french_output = translator(french_prompt, src_lang=\"en_XX\", tgt_lang=\"fr_XX\")\n",
        "print(\"\\nFrench Output:\\n\", french_output[0]['translation_text'])\n"
      ],
      "metadata": {
        "colab": {
          "base_uri": "https://localhost:8080/"
        },
        "id": "tN9oq-6xRfP8",
        "outputId": "a1514739-fef7-4a20-a8bc-64fde7e68ad9"
      },
      "execution_count": 2,
      "outputs": [
        {
          "output_type": "stream",
          "name": "stdout",
          "text": [
            "Hindi Output:\n",
            " अमिताभ एक गतिशील नेतृत्व शैली का उदाहरण है, जो परिणाम पर ध्यान केंद्रित करती है और संक्रामक ऊर्जा से प्रेरित होती है जो टीम को अपेक्षाओं से अधिक करने के लिए प्रेरित करती है।\n",
            "\n",
            "Spanish Output:\n",
            " Amit es el ejemplo de un estilo de liderazgo dinámico, un láser centrado en el resultado y alimentado por energía infecciosa que impulsa a un equipo a superar las expectativas.\n",
            "\n",
            "French Output:\n",
            " Amit est l'exemple d'un style de leadership dynamique, un laser axé sur le résultat et appuyé par une énergie infectieuse qui pousse l'équipe à dépasser les attentes.\n"
          ]
        }
      ]
    }
  ]
}
