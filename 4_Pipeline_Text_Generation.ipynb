{
  "nbformat": 4,
  "nbformat_minor": 0,
  "metadata": {
    "colab": {
      "provenance": []
    },
    "kernelspec": {
      "name": "python3",
      "display_name": "Python 3"
    },
    "language_info": {
      "name": "python"
    }
  },
  "cells": [
    {
      "cell_type": "markdown",
      "source": [
        "# Text generation\n",
        "\n",
        "Now let’s see how to use a **`pipeline`** to generate some text. The main idea here is that you *provide a prompt* and the *model will auto-complete* it by generating the remaining text.\n",
        "\n",
        "This is similar to the **predictive text feature** that is found on many phones. Text generation involves randomness, so it’s normal if you don’t get the same results as shown below."
      ],
      "metadata": {
        "id": "ukWOcNOOxQrJ"
      }
    },
    {
      "cell_type": "code",
      "execution_count": 1,
      "metadata": {
        "id": "hz2vfyQuxBGs"
      },
      "outputs": [],
      "source": [
        "from transformers import pipeline"
      ]
    },
    {
      "cell_type": "code",
      "source": [
        "generator = pipeline(\"text-generation\")"
      ],
      "metadata": {
        "colab": {
          "base_uri": "https://localhost:8080/",
          "height": 410,
          "referenced_widgets": [
            "34b9c7df80f8440b8cc87016d9276e91",
            "756bb3c8a5b642f4b3f4225e21e61f49",
            "635722dd0a134d568f61785c1990bae2",
            "908c629f87eb49868b29735ae423767f",
            "7a6b1913ccc14253869a811482b42993",
            "02340aa2f6c54c62a593448880f99a2b",
            "985ff95f232641ec87dd80691970c34b",
            "e29f04b316d9447fbb470228e00d65da",
            "96eb2143702c4c8f9f439040bc7e18ed",
            "6d350d10a95b42008e74285bfc538a01",
            "8a74fc13fb424a5abca4870197270c5c",
            "2baa156dcecb47d091c5b4e95f6b5f97",
            "65616767f08046748b4c2f1e7577a213",
            "7407249e8a114bfea87a587276c48b5b",
            "b585de4aad3043e5a0245a2a4be031ee",
            "2db2f6bfed36411aa8fc010f80481497",
            "2873c79806494b949f465fd9a6e27996",
            "cad48774f2074156b58e9c8d56f23daf",
            "684324c9b7a94cdf85889de7d7e36ebf",
            "e10c355515004984a7c63582ebb76f90",
            "fb6847c16fed4094a0d327731e7551a5",
            "588d3bf222d040eb89b61bbc13d79596",
            "af5b8f8ec9fd484b96317fb783fc7cf1",
            "56e995020b264b688ca7bf104c0232b7",
            "d0af82b3e89445a192cbe390d2a3a785",
            "0344bae0df8a4a9d88ba987ba4e052cf",
            "d88cc36a50c645b5ad14fb526bca0e15",
            "bebddf1b5b3c4a208ad4ffc66d26a764",
            "84389e0e13234111a1bd6f3b6afdcdac",
            "e73a3da2fff54210ad216d0f47652243",
            "f2127ea835b6436ba9a985c37e8a85c7",
            "2b7e04c857174d84ace8a4dac2d6456b",
            "7e55ffd9400f4a9caf7630010e4f9c65",
            "2d1e7a49c1f64b1487b231b1909e2a44",
            "0dae5c0b85784ebe8f070ffa00ed4b2d",
            "4bd4891aabcc4011979e42b5963c02e2",
            "df432f1560df40ceb0c63c24a7949df7",
            "e8f91594a0074849a5326d840f11d69d",
            "bcb8e3b8d27244cbbd2ce6810498848a",
            "517f0459c07041b7bc1d3c4ce42d29a0",
            "593542ba902e42aa853f42d03232ebf1",
            "4c2973a9b8b24e39a0c379881b0f35ae",
            "6e987a7d10cd4ba2a46bb016490d2877",
            "c0ea44b39eeb4caab4716b93d03063b4",
            "b3ed8f1139e7468e905be4749da0e5d4",
            "f3bca1758e63401dadeb3317b15b2a1c",
            "52af65cf825d4a69a9e89ad610ccb3c0",
            "207dd0c6d49b464fa2ab9ba1f54d70b3",
            "99765779323e43629525dc7a4bcd88fa",
            "e7e2590935a340419227ea88dcb7b366",
            "f89fa197f8d648c6bac6dfb10c9652d2",
            "4dcf83ee976243a4b6d4608b06aea02d",
            "a1477cdb1a994d938d53b59b364b0481",
            "e77d132de3ff46cb91fa9c831738b435",
            "a053a9e906f64ecdb437ad24e1e97740",
            "d24b694972de452cb32c1881ea3ab791",
            "70a8bdb8ec3b4f5a974ce4e94270e544",
            "8dee9cf3513e43f6b8e73b5556d421d7",
            "57157637ca5f4abfb1b43fada2d1dea4",
            "6a6819c46d994eb694d2adc43fcb869e",
            "9ef8be62750f497ea9948e82ebf37f5d",
            "7a129ff691b647a5b6dc41b0e6afb8ce",
            "aa3728b769de40f7bc9ab62f26e0049b",
            "87a936fbee5f437a83a8b94b4530ecfd",
            "6a449b8b6fb64167aa94853a685ddb7d",
            "0f35eb7028fd477cbafe18c53c97ff82",
            "ac01b83ebc824c018078cdce0e49326a",
            "a94e3639765344318bfd08fd1247ea64",
            "7208a4844c6f4456bdff5f1841f0a100",
            "3158554025ad4ad48fbe1393631ed386",
            "d91ab189aec64c60a44628812ff75784",
            "fd5c9cbbba87474c843178b9c08bc83a",
            "6a3a6dfab38340be94705f3291167b71",
            "63803753850b424a81110b5efdc3ee89",
            "aba6b7eb38dc477ca1806e57e970a475",
            "c0a43953214b4d95aaf8f99164df085b",
            "1f253c8e17e5485297060613e6f2b849"
          ]
        },
        "id": "RILmDCUjz0pA",
        "outputId": "468daba4-0c83-4449-91b8-6999e92fac9c"
      },
      "execution_count": 2,
      "outputs": [
        {
          "output_type": "stream",
          "name": "stderr",
          "text": [
            "No model was supplied, defaulted to openai-community/gpt2 and revision 607a30d (https://huggingface.co/openai-community/gpt2).\n",
            "Using a pipeline without specifying a model name and revision in production is not recommended.\n",
            "/usr/local/lib/python3.12/dist-packages/huggingface_hub/utils/_auth.py:94: UserWarning: \n",
            "The secret `HF_TOKEN` does not exist in your Colab secrets.\n",
            "To authenticate with the Hugging Face Hub, create a token in your settings tab (https://huggingface.co/settings/tokens), set it as secret in your Google Colab and restart your session.\n",
            "You will be able to reuse this secret in all of your notebooks.\n",
            "Please note that authentication is recommended but still optional to access public models or datasets.\n",
            "  warnings.warn(\n"
          ]
        },
        {
          "output_type": "display_data",
          "data": {
            "text/plain": [
              "config.json:   0%|          | 0.00/665 [00:00<?, ?B/s]"
            ],
            "application/vnd.jupyter.widget-view+json": {
              "version_major": 2,
              "version_minor": 0,
              "model_id": "34b9c7df80f8440b8cc87016d9276e91"
            }
          },
          "metadata": {}
        },
        {
          "output_type": "display_data",
          "data": {
            "text/plain": [
              "model.safetensors:   0%|          | 0.00/548M [00:00<?, ?B/s]"
            ],
            "application/vnd.jupyter.widget-view+json": {
              "version_major": 2,
              "version_minor": 0,
              "model_id": "2baa156dcecb47d091c5b4e95f6b5f97"
            }
          },
          "metadata": {}
        },
        {
          "output_type": "display_data",
          "data": {
            "text/plain": [
              "generation_config.json:   0%|          | 0.00/124 [00:00<?, ?B/s]"
            ],
            "application/vnd.jupyter.widget-view+json": {
              "version_major": 2,
              "version_minor": 0,
              "model_id": "af5b8f8ec9fd484b96317fb783fc7cf1"
            }
          },
          "metadata": {}
        },
        {
          "output_type": "display_data",
          "data": {
            "text/plain": [
              "tokenizer_config.json:   0%|          | 0.00/26.0 [00:00<?, ?B/s]"
            ],
            "application/vnd.jupyter.widget-view+json": {
              "version_major": 2,
              "version_minor": 0,
              "model_id": "2d1e7a49c1f64b1487b231b1909e2a44"
            }
          },
          "metadata": {}
        },
        {
          "output_type": "display_data",
          "data": {
            "text/plain": [
              "vocab.json: 0.00B [00:00, ?B/s]"
            ],
            "application/vnd.jupyter.widget-view+json": {
              "version_major": 2,
              "version_minor": 0,
              "model_id": "b3ed8f1139e7468e905be4749da0e5d4"
            }
          },
          "metadata": {}
        },
        {
          "output_type": "display_data",
          "data": {
            "text/plain": [
              "merges.txt: 0.00B [00:00, ?B/s]"
            ],
            "application/vnd.jupyter.widget-view+json": {
              "version_major": 2,
              "version_minor": 0,
              "model_id": "d24b694972de452cb32c1881ea3ab791"
            }
          },
          "metadata": {}
        },
        {
          "output_type": "display_data",
          "data": {
            "text/plain": [
              "tokenizer.json: 0.00B [00:00, ?B/s]"
            ],
            "application/vnd.jupyter.widget-view+json": {
              "version_major": 2,
              "version_minor": 0,
              "model_id": "ac01b83ebc824c018078cdce0e49326a"
            }
          },
          "metadata": {}
        },
        {
          "output_type": "stream",
          "name": "stderr",
          "text": [
            "Device set to use cpu\n"
          ]
        }
      ]
    },
    {
      "cell_type": "code",
      "source": [
        "generator([\"Amit, is a high impact leader\", 'sharp in focus', \"relentless in drive and always step ahead in AI reasearcher journey\"])"
      ],
      "metadata": {
        "colab": {
          "base_uri": "https://localhost:8080/"
        },
        "id": "_vENltmwz76Q",
        "outputId": "b830b0fd-1828-4006-a94f-e2f21798b3b6"
      },
      "execution_count": 3,
      "outputs": [
        {
          "output_type": "stream",
          "name": "stderr",
          "text": [
            "Setting `pad_token_id` to `eos_token_id`:50256 for open-end generation.\n",
            "Setting `pad_token_id` to `eos_token_id`:50256 for open-end generation.\n",
            "Setting `pad_token_id` to `eos_token_id`:50256 for open-end generation.\n"
          ]
        },
        {
          "output_type": "execute_result",
          "data": {
            "text/plain": [
              "[[{'generated_text': 'Amit, is a high impact leader of the Islamic State group. He is one of the most dangerous fighters in the world. He is the leader of the Islamic State but he is also an expert in the Quran and the Sunnah. He is a member of Al-Qaeda in Iraq.\"\\n\\nThe video posted on the Islamic State website showed the group\\'s leader, Abu Bakr al-Baghdadi, talking to a group of young men in a car and talking about how he had killed a woman.\\n\\nThe video depicts the group\\'s leader, Abu Bakr al-Baghdadi, speaking to a group of young men in a car and talking about how he was killing a woman in Mosul.\\n\\nMr Abbas said: \"The first thing a journalist in Syria must understand is that Islamic State is an evil force. The group takes part in the most heinous acts, the most heinous of them are the ones that are committed by the terrorists. This is the same thing as the people who killed American servicemen.\"\\n\\nThe leader of Abu Bakr al-Baghdadi, Abu Musab al-Zarqawi, also spoke to the media on Friday, stating that he had killed the woman who was \"about to die\".\\n\\nHe said he had killed the woman because she was'}],\n",
              " [{'generated_text': \"sharp in focus and on the right and left and a different style.\\n\\nThe key is to start off with a straight line which takes your attention back to the center of the screen. At that point you can focus on the centre and then just get moving.\\n\\nThen, it's time to turn the focus to the right or left and focus on the right side. This is where you can start changing your composition (for example, by changing the focus to the right or left).\\n\\nThere are two great tips to getting the right or left perspective. One is to start by looking at the screen to see the reflection on the right and left side.\\n\\nThe other is to look at the screen to see the reflection on the left side and to see the reflection on the right side. This is where you can tell if you have been used to this style of composition.\\n\\nNow, it's time to focus on the right side.\\n\\nNow, it's time to turn the focus to the right or left and focus on the right side. This is where you can start changing your composition (for example, by changing the focus to the right or left).\\n\\nThere are two great tips to getting the right or left perspective. One is to start by\"}],\n",
              " [{'generated_text': \"relentless in drive and always step ahead in AI reasearcher journey.\\n\\nIf I was ever to start to doubt my own research work, I would no longer be able to be optimistic. I may have found a new way to be happy.\\n\\nI may be right. But I don't think I'll be happy as long as AI reasearch is done well.\"}]]"
            ]
          },
          "metadata": {},
          "execution_count": 3
        }
      ]
    },
    {
      "cell_type": "markdown",
      "source": [
        "You can control how many different sequences are generated with the argument **`num_return_sequences`** and the total length of the output text with the argument **`max_length`**."
      ],
      "metadata": {
        "id": "SAO1cio50rlY"
      }
    },
    {
      "cell_type": "markdown",
      "source": [
        "# Using any model from the Hub in a pipeline\n",
        "\n",
        "In the previous examples you used the default model for the task at hand, but you can also choose a particular model from the Hub to use in a **pipeline** for a specific task — say, **text generation**. Go to the HF's [Model Hub](https://huggingface.co/models?pipeline_tag=text-generation) and choose what best suits you."
      ],
      "metadata": {
        "id": "W5aoxjCh2Vr4"
      }
    },
    {
      "cell_type": "code",
      "source": [
        "generator = pipeline(\"text-generation\", model=\"HuggingFaceTB/SmolLM2-360M\")"
      ],
      "metadata": {
        "id": "MIVew_bj3c8N",
        "colab": {
          "base_uri": "https://localhost:8080/",
          "height": 310,
          "referenced_widgets": [
            "0c103a675962430f9e70fe95bfb13767",
            "77fdd4e47dd1425786861337b3fc7b0f",
            "a54c0d80252b4c76b8cd6aea9df5cdab",
            "06d19db9118a4fbe9414b3ca18efacbd",
            "3b0d5e00479a4678ba0e58b1c451d6d0",
            "779f64c44e0b443db834652e0296cd89",
            "89b2f7ee4feb4ff1b1f4ba4250bb64ed",
            "c0760873e9934adaaee052eda5b689b2",
            "3a10051ccb4f4c9285e126047a79a0b3",
            "c68554713851448da0e24ecce77a9057",
            "49489655682d49fcbf6ef7ec1f5e6ecd",
            "6ea4cc72168b4c60a0ef4d6a228af59d",
            "7b8af8c516dd41999ae58ba478b8040f",
            "c802b539b7e54f9c94a08fd67f48e4a7",
            "09b32c7fc5c543af89f116a381ac7392",
            "328a8fb50533441c8b378924b8741341",
            "fd46fa314697403ab0ebfd23a1632d37",
            "4fed39b22dbd44b09578efc4892dbe88",
            "910a75f3ca874476b694fe1a28938bae",
            "fbe422ad88914d38affff37f14f278d1",
            "154b1848a5564ab48c272abb577d79f9",
            "666bfabfd80940698ec96348584f0db2",
            "a8e64a55289e4610925847f423198be9",
            "954bfaaa0bbd4354a119f3befd209ef8",
            "0c988917517e4955b83c6185d52deab9",
            "20e03023489740258aced74e156ae194",
            "e7245c1862ba480493e14d4b2c998591",
            "a24c7c52efbd4d20a7a8e0af602ac29e",
            "31cb7d3df3d24a88ab622ba60d8a3461",
            "72c533e2fb6b4fe88eefbef79d1c0038",
            "854e8dd0c82243869de59e0434afb714",
            "4dd129030f584a92a391a6a99b0e6283",
            "96d88ad740a743daacd46ff278970c70",
            "4d9d46656be24d9f9ffddf2e7e0fbf76",
            "79fe8c2ffe224226a4c9699156191d18",
            "9756efa56e284083950380c822c64b53",
            "9ae18ddfc4144bc4bac67ebd82e2eb9b",
            "e638e0cef80247929005037358cb3bad",
            "2d66042cc01c4c9987190f723d580659",
            "6bda6a5eb23248dcad02447a7a7fe66c",
            "aed7d6e4a2fc41d4a13016e91d8cc55e",
            "274e3d83574a40a4a5cee6d1b8a9e06d",
            "3e11583998994c4db2fafd1f7e0ab554",
            "6cbff3bbc8804a2daad28c533dac2e09",
            "9dd6c69e7e824821bb65bc2f9e040bfd",
            "5b829da254dd4c2bb11ea8369479f58f",
            "d537d6a1b263427aa04597b8272cc316",
            "069b79fc0cb943edbcbbbab9cd2b4ffd",
            "039363fa55eb488793220457e982bb4e",
            "12afd083be2c47e2a1fe234bfcac20ac",
            "d711821e67804cacb542da708176c076",
            "52acb9d2848a4eadae1ec546081e8889",
            "b9b725c08b9f4257852accf7365f6930",
            "05005ca7e5974553a703df80408d9e3e",
            "4e8e66be6a2740bf85d312c2a2f2963d",
            "dce6b94a4da840cabc42c185549d3bd8",
            "9b594f5a1af94f33b409d3010f34aa4a",
            "fcd83434fd96466fb08eeea409223f7d",
            "6e031057d8a84fc9a3ed67447c980003",
            "792baa9f0a71457081f2b9b69ebcbce3",
            "e4b56f9d4b5b4c99946fda23000dddec",
            "8399931f28e84d13bf491f51549ffdd7",
            "4050567233fc4805a5a86eeef2933b1a",
            "bac4888614ca40a4ad18fa2934d2aa41",
            "bc286321ed664b3db2a68012094ddbf0",
            "66e845c842bf483597bffa680451e384",
            "839cf64f8926415c9a3059e9594c61d1",
            "22c62798bfb64f62b0a1fcf08df193e8",
            "d2128fd7ca1f4fe0ac216cc67af074ac",
            "fa3044fabc1c4fb489891e2f7ca796bc",
            "d6cf4fb1b2c542c59b612229c4c41612",
            "3f556c4114fc4f2b8494397ff5114398",
            "0d6b8c60a33342da85197a339c08910e",
            "41cd4bc275114fdd9e367092787ff636",
            "2e016fd305334360b1b0ec6de2ab57b3",
            "1463086a44534119bf427eec81484f6b",
            "cb807347a67740fcb68ebda0ef2312bf",
            "2a33c975a34641c39f8ae8284cca6fa1",
            "b6a4f4da17854a219a83cd7ab5e34127",
            "f9488b14fee8401b81dcab068c827314",
            "4f210856e7ef408180bd77034123b4fa",
            "f964d97daeb742eda6a7199570cbf0ae",
            "19c5e678f2a94b589f955c6fcd5ed2ec",
            "fa883419d4e040b79161052d54f2270f",
            "fa7ec1963636408f89ff485e7a283e89",
            "b8cc97a7b9db498fbcc24670b683d7da",
            "ca98c456ec284ff28265209b7829cff7",
            "7f448f7110a14bb5a74a49d3957f2f7b"
          ]
        },
        "outputId": "591e215d-c055-4886-ca32-e64b8513239c"
      },
      "execution_count": 4,
      "outputs": [
        {
          "output_type": "display_data",
          "data": {
            "text/plain": [
              "config.json:   0%|          | 0.00/689 [00:00<?, ?B/s]"
            ],
            "application/vnd.jupyter.widget-view+json": {
              "version_major": 2,
              "version_minor": 0,
              "model_id": "0c103a675962430f9e70fe95bfb13767"
            }
          },
          "metadata": {}
        },
        {
          "output_type": "display_data",
          "data": {
            "text/plain": [
              "model.safetensors:   0%|          | 0.00/724M [00:00<?, ?B/s]"
            ],
            "application/vnd.jupyter.widget-view+json": {
              "version_major": 2,
              "version_minor": 0,
              "model_id": "6ea4cc72168b4c60a0ef4d6a228af59d"
            }
          },
          "metadata": {}
        },
        {
          "output_type": "display_data",
          "data": {
            "text/plain": [
              "generation_config.json:   0%|          | 0.00/111 [00:00<?, ?B/s]"
            ],
            "application/vnd.jupyter.widget-view+json": {
              "version_major": 2,
              "version_minor": 0,
              "model_id": "a8e64a55289e4610925847f423198be9"
            }
          },
          "metadata": {}
        },
        {
          "output_type": "display_data",
          "data": {
            "text/plain": [
              "tokenizer_config.json: 0.00B [00:00, ?B/s]"
            ],
            "application/vnd.jupyter.widget-view+json": {
              "version_major": 2,
              "version_minor": 0,
              "model_id": "4d9d46656be24d9f9ffddf2e7e0fbf76"
            }
          },
          "metadata": {}
        },
        {
          "output_type": "display_data",
          "data": {
            "text/plain": [
              "vocab.json: 0.00B [00:00, ?B/s]"
            ],
            "application/vnd.jupyter.widget-view+json": {
              "version_major": 2,
              "version_minor": 0,
              "model_id": "9dd6c69e7e824821bb65bc2f9e040bfd"
            }
          },
          "metadata": {}
        },
        {
          "output_type": "display_data",
          "data": {
            "text/plain": [
              "merges.txt: 0.00B [00:00, ?B/s]"
            ],
            "application/vnd.jupyter.widget-view+json": {
              "version_major": 2,
              "version_minor": 0,
              "model_id": "dce6b94a4da840cabc42c185549d3bd8"
            }
          },
          "metadata": {}
        },
        {
          "output_type": "display_data",
          "data": {
            "text/plain": [
              "tokenizer.json: 0.00B [00:00, ?B/s]"
            ],
            "application/vnd.jupyter.widget-view+json": {
              "version_major": 2,
              "version_minor": 0,
              "model_id": "839cf64f8926415c9a3059e9594c61d1"
            }
          },
          "metadata": {}
        },
        {
          "output_type": "display_data",
          "data": {
            "text/plain": [
              "special_tokens_map.json:   0%|          | 0.00/831 [00:00<?, ?B/s]"
            ],
            "application/vnd.jupyter.widget-view+json": {
              "version_major": 2,
              "version_minor": 0,
              "model_id": "2a33c975a34641c39f8ae8284cca6fa1"
            }
          },
          "metadata": {}
        },
        {
          "output_type": "stream",
          "name": "stderr",
          "text": [
            "Device set to use cpu\n"
          ]
        }
      ]
    },
    {
      "cell_type": "code",
      "source": [
        "generator(\"Amit, is a high impact AI reasearcher, sharp in focus, relentless in drive and always step ahead.\",\n",
        "  max_length=30,\n",
        "  num_return_sequences=1,\n",
        "          )"
      ],
      "metadata": {
        "colab": {
          "base_uri": "https://localhost:8080/"
        },
        "id": "s9QJzvws3F0v",
        "outputId": "73e767ad-89e0-4d57-a5f8-78d62f4e85b6"
      },
      "execution_count": 6,
      "outputs": [
        {
          "output_type": "stream",
          "name": "stderr",
          "text": [
            "Setting `pad_token_id` to `eos_token_id`:0 for open-end generation.\n",
            "Both `max_new_tokens` (=256) and `max_length`(=30) seem to have been set. `max_new_tokens` will take precedence. Please refer to the documentation for more information. (https://huggingface.co/docs/transformers/main/en/main_classes/text_generation)\n"
          ]
        },
        {
          "output_type": "execute_result",
          "data": {
            "text/plain": [
              "[{'generated_text': 'Amit, is a high impact AI reasearcher, sharp in focus, relentless in drive and always step ahead. He is a 100% dedicated to his work in developing AI technologies and technologies of the future.\\n\\nIn this article, Amit has explained to us what exactly is AI and how AI is going to change the future of industries.\\n\\nWhat is artificial intelligence?\\n\\nArtificial Intelligence is a term that involves the development of systems that can show some intelligent behavior.\\n\\nThe term artificial intelligence was first coined by the American author John McCarthy, where the term was first used in 1956 in his paper “I, Robot”.\\n\\nThe term artificial intelligence was first coined by the American author John McCarthy, where the term was first used in his paper “I, Robot”.\\n\\nWhat is the difference between machine learning and artificial intelligence?\\n\\nMachine learning and artificial intelligence differ in the sense that machine learning involves implementing algorithms that can learn from data while artificial intelligence is a process of creating machines that can demonstrate human intelligence.\\n\\nWhat is the difference between machine learning and AI?\\n\\nArtificial Intelligence is a process, while machine learning is a process.\\n\\nWhat is the difference between AI and machine learning?\\n\\nMachine learning is a process while artificial intelligence is a process.\\n\\nWhat is the difference between AI and machine'}]"
            ]
          },
          "metadata": {},
          "execution_count": 6
        }
      ]
    },
    {
      "cell_type": "markdown",
      "source": [
        "HF pipeline for text generation\n",
        "The main idea here is that you provide a prompt and the model will auto-complete it by generating the remaining text. This is similar to the predictive text feature that is found on many phones.\n",
        "\n",
        "You can control how many different sequences are generated with the argument num_return_sequences and the total length of the output text with the argument max_length."
      ],
      "metadata": {
        "id": "ZgWS9myiBrxn"
      }
    },
    {
      "cell_type": "code",
      "source": [],
      "metadata": {
        "id": "WUEIvDcBB_ha"
      },
      "execution_count": 5,
      "outputs": []
    }
  ]
}
