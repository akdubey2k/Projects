{
  "nbformat": 4,
  "nbformat_minor": 0,
  "metadata": {
    "colab": {
      "provenance": []
    },
    "kernelspec": {
      "name": "python3",
      "display_name": "Python 3"
    },
    "language_info": {
      "name": "python"
    }
  },
  "cells": [
    {
      "cell_type": "markdown",
      "source": [
        "# Hugging Face image classification\n",
        "-refers to the use of **pre-trained models** and tools provided by **Hugging Face** to assign a label or category to an image. It involves inputting an *image into a model that has been trained* to recognize patterns and features, with the output being the most likely **class** *the image belongs* to, such as **\"cat\" or \"dog\"**.\n",
        "\n",
        "**Hugging Face** provides the infrastructure and resources, including a model hub, libraries like **transformers**, and tools like **AutoTrain**, to perform this task efficiently.\n",
        "\n",
        "### How it works:\n",
        "1. **Pre-trained Models:** Hugging Face hosts a vast collection of *pre-trained models* for various tasks, including image classification. These models are trained on large datasets and are ready to be used or fine-tuned for specific needs.\n",
        "2. **Pipelines:** The easiest way to use these models is through the **Hugging Face Transformers library pipelines**, which abstract away much of the complexity.\n",
        "3. **Input:** You provide an image (*as an image file or local bytes*) to the pipeline.\n",
        "4. **Classification:** The model analyzes the image's pixel values and predicts the most probable class.\n",
        "5. **Output:** The result is typically a set of classes and associated confidence scores, indicating the likelihood of each prediction.\n"
      ],
      "metadata": {
        "id": "cVICzIJHov-D"
      }
    },
    {
      "cell_type": "markdown",
      "source": [
        "### Key aspects of Hugging Face's approach:\n",
        "- **Model Hub:** A central platform to find, share, and use pre-trained models, including vision transformers.\n",
        "- **AutoTrain:** A service that simplifies the process of training custom image classification models by uploading labeled example images.\n",
        "- **Libraries:** Transformers and Datasets libraries provide the core functionalities for data loading, model inference, and training.\n",
        "\n",
        "### Applications:\n",
        "- **Keyword classification:** Assigning a keyword to an image.\n",
        "- **Image search:** Organizing photo libraries.\n",
        "- **Medical image screening:** Helping to detect signs of disease.\n",
        "- **Crop health monitoring:** Assessing the health of crops."
      ],
      "metadata": {
        "id": "cwH8QEV4o3i4"
      }
    },
    {
      "cell_type": "code",
      "execution_count": 1,
      "metadata": {
        "id": "ah290abPoisT"
      },
      "outputs": [],
      "source": [
        "from transformers import pipeline"
      ]
    },
    {
      "cell_type": "code",
      "source": [
        "task=\"image-classification\"\n",
        "model_name=\"google/vit-base-patch16-224\"\n",
        "image_classifier= pipeline(task, model=model_name )"
      ],
      "metadata": {
        "colab": {
          "base_uri": "https://localhost:8080/",
          "height": 329,
          "referenced_widgets": [
            "f07cbfbd651e4fa4bb3207ee9154c481",
            "330c05fa08ea4721bcd85a6aff691490",
            "1d5e57fed363421f88880ca9a9b38352",
            "162f335b2da84a7596fe6e2d5f546b56",
            "caf1019fcaf24762b4ee7dc8c05957cd",
            "e7e5a7c3a95040dca5f1d3345776d997",
            "5a776e60835d46688a87f5a1efe5bd9e",
            "a85e0b992cb2476d95c6de03db7410a1",
            "f6777f14bbe84745940088e1ebc184de",
            "7da8ba3147b24ae8bed064c58732156b",
            "3cfad3a3bc2941f7be2443e1f832481b",
            "991199ee1114445a9f52f77d5d89c9c5",
            "e2bbcea8cf1b41a5a68f57dd37e4bd5d",
            "bacebe8579854a37a2ca192be41e7e4b",
            "c2665416c4814314aa016eb932682ab4",
            "f095eee6ca2744718db1ce38f89e60da",
            "77c306522aa0420abf9a871e39e1288c",
            "bc2f675ecf0f4b2c9640f0e3150b08d3",
            "cd24c2f7ce6442eeb028b1eb0973cb99",
            "5b34465287a3447dac7020afad5fe555",
            "bb3f54d61a3d4ee7b00e1c3ae4eb83aa",
            "f024e65b5e7d4c5a9e83102cc128bae5",
            "f5752a2082d742b082cb9cd04604ea0f",
            "1f36013f08cd470b84cd308c6682e92c",
            "04ce9f0f95574a05b5b21e36b4c7889e",
            "28367c6e9b034af1b967c1caac1da167",
            "d90b5aefa65d40b083eabf20605e3174",
            "820f5e0b42b842aeb2bae714ffbe3217",
            "cc22b56f4d404623ad3b330e095ab9d2",
            "af1cf9ff67ca4463b8d90bb1d0769d7b",
            "cd5addfa4c31431f8f9b32dbe7718ccd",
            "98d34728599147f7ac3ca440778e8129",
            "213d66f36198458184f44a9f55b474a4",
            "4332e7190fc44b6eaabd135ca66e55af",
            "e130e471baa64252b91b7b19949e8223",
            "0b107296a99941609bd08fa4ee0b4731",
            "e0c572ac056e49968479de74fd154c52",
            "47f7a321d3664f999b7a482c648bdc4c",
            "9523bd0b7f29484dbae581a0b8ce5725",
            "fec055fd1ed54541a712673558b990ba",
            "c0ecd1d0fd6749139779de91a7d1ddcd",
            "330b3e1322784bc08f9161dee2bf6e50",
            "d5da49ca0cff46e7844f13a4cf034e70",
            "b5407efa9a9d41c8969ed78827f6bc1a",
            "d1b57180edc44d879a722d59987b5dc1",
            "e9cb236deffe42078885e865d1659a62",
            "9b477a9402cd4f74b4d0b0b140bbc285",
            "f10502930fb248d9968e5dffbc647327",
            "382e38be3efc4a16b4be46de3ebe09fe",
            "d7151165597844d380a983fc0ba6195e",
            "261f6fac9cfe46b789f80355ac7f1fbc",
            "d6f3a1c9b4224d569d6b3d221d94edd2",
            "b49b69b9e20348018610f7057312136d",
            "001bc579ff3343cca10d035c1e53c510",
            "badebe294c524d70b87a662e4c579b0a"
          ]
        },
        "id": "4u8p8Gg6p5gr",
        "outputId": "9a862db3-d9be-4c29-92ae-6a39b71539be"
      },
      "execution_count": 2,
      "outputs": [
        {
          "output_type": "stream",
          "name": "stderr",
          "text": [
            "/usr/local/lib/python3.12/dist-packages/huggingface_hub/utils/_auth.py:94: UserWarning: \n",
            "The secret `HF_TOKEN` does not exist in your Colab secrets.\n",
            "To authenticate with the Hugging Face Hub, create a token in your settings tab (https://huggingface.co/settings/tokens), set it as secret in your Google Colab and restart your session.\n",
            "You will be able to reuse this secret in all of your notebooks.\n",
            "Please note that authentication is recommended but still optional to access public models or datasets.\n",
            "  warnings.warn(\n"
          ]
        },
        {
          "output_type": "display_data",
          "data": {
            "text/plain": [
              "config.json: 0.00B [00:00, ?B/s]"
            ],
            "application/vnd.jupyter.widget-view+json": {
              "version_major": 2,
              "version_minor": 0,
              "model_id": "f07cbfbd651e4fa4bb3207ee9154c481"
            }
          },
          "metadata": {}
        },
        {
          "output_type": "display_data",
          "data": {
            "text/plain": [
              "model.safetensors:   0%|          | 0.00/346M [00:00<?, ?B/s]"
            ],
            "application/vnd.jupyter.widget-view+json": {
              "version_major": 2,
              "version_minor": 0,
              "model_id": "991199ee1114445a9f52f77d5d89c9c5"
            }
          },
          "metadata": {}
        },
        {
          "output_type": "display_data",
          "data": {
            "text/plain": [
              "Fetching 1 files:   0%|          | 0/1 [00:00<?, ?it/s]"
            ],
            "application/vnd.jupyter.widget-view+json": {
              "version_major": 2,
              "version_minor": 0,
              "model_id": "f5752a2082d742b082cb9cd04604ea0f"
            }
          },
          "metadata": {}
        },
        {
          "output_type": "display_data",
          "data": {
            "text/plain": [
              "preprocessor_config.json:   0%|          | 0.00/160 [00:00<?, ?B/s]"
            ],
            "application/vnd.jupyter.widget-view+json": {
              "version_major": 2,
              "version_minor": 0,
              "model_id": "4332e7190fc44b6eaabd135ca66e55af"
            }
          },
          "metadata": {}
        },
        {
          "output_type": "stream",
          "name": "stderr",
          "text": [
            "Fast image processor class <class 'transformers.models.vit.image_processing_vit_fast.ViTImageProcessorFast'> is available for this model. Using slow image processor class. To use the fast image processor class set `use_fast=True`.\n"
          ]
        },
        {
          "output_type": "display_data",
          "data": {
            "text/plain": [
              "Fetching 1 files:   0%|          | 0/1 [00:00<?, ?it/s]"
            ],
            "application/vnd.jupyter.widget-view+json": {
              "version_major": 2,
              "version_minor": 0,
              "model_id": "d1b57180edc44d879a722d59987b5dc1"
            }
          },
          "metadata": {}
        },
        {
          "output_type": "stream",
          "name": "stderr",
          "text": [
            "Device set to use cpu\n"
          ]
        }
      ]
    },
    {
      "cell_type": "code",
      "source": [
        "# directly upload from google colab workspace location\n",
        "image_path = \"Amit_Visa_2022.jpeg\"\n",
        "\n",
        "results = image_classifier(image_path)\n",
        "results"
      ],
      "metadata": {
        "colab": {
          "base_uri": "https://localhost:8080/"
        },
        "id": "Z_uZ38cRrWGS",
        "outputId": "a37d97c1-96f0-4229-f4dc-c16e96551291"
      },
      "execution_count": 4,
      "outputs": [
        {
          "output_type": "execute_result",
          "data": {
            "text/plain": [
              "[{'label': 'envelope', 'score': 0.7954962253570557},\n",
              " {'label': 'rubber eraser, rubber, pencil eraser',\n",
              "  'score': 0.04921957105398178},\n",
              " {'label': 'rule, ruler', 'score': 0.029204238206148148},\n",
              " {'label': 'binder, ring-binder', 'score': 0.014957639388740063},\n",
              " {'label': 'packet', 'score': 0.011321413330733776}]"
            ]
          },
          "metadata": {},
          "execution_count": 4
        }
      ]
    },
    {
      "cell_type": "markdown",
      "source": [
        "# Zero-Shot Image Classification:\n",
        "Hugging Face also supports **zero-shot image classification**, where you can classify an image based on a list of **candidate labels** without explicit training for those specific classes."
      ],
      "metadata": {
        "id": "CarWbTf-vP10"
      }
    },
    {
      "cell_type": "code",
      "source": [
        "task=\"zero-shot-image-classification\"\n",
        "model_name=\"openai/clip-vit-base-patch32\"\n",
        "image_classifier= pipeline(task, model=model_name )"
      ],
      "metadata": {
        "colab": {
          "base_uri": "https://localhost:8080/",
          "height": 390,
          "referenced_widgets": [
            "f4da9f1c4f8543a5aef27937797b67b8",
            "7a9c4ddf211f4a7d9b0c77ca8e20e913",
            "0fd2c89cd11c44a7a2f32c64557c859c",
            "729acf75bae348088ab2aec32db76a03",
            "39fee80018b24cc4861015e05fbfcf82",
            "d87d2fb19f8e4014881ae2bb0fe10c5f",
            "ec51e0f0ac5f47b097b7bad1a18e337c",
            "895cf5e96d04434f883d4f1a49db6a49",
            "da2bc295d858406f87001254e4113e4f",
            "c9a1a66642ca4dd89785a346fa6fbe79",
            "e9e5fb69e6424db19bae15aa02e5822a",
            "391954437e5a42bab9eda95046c1e9aa",
            "ccf39cc3f0054b1aac829352dc5fdb9e",
            "f1273a766029499bb8732d791f9367c0",
            "d4be0e37f84144a089236820f1cd8246",
            "332d41fa2e1143bdb5c75943202da525",
            "7b6fc135ca40460ea68959593d236a60",
            "e7d19420627e4bbe8d80122e4484944d",
            "ead081579ca4498fb73daa01c2441e52",
            "1f10ec2a397d43abbc04a3cfa78408de",
            "1e2e75fdf4af4d22828ec62e8804c3ac",
            "4a20b33354e146c0a36169e772be89c5",
            "b0dacc9446a7492d95bb913cf5b2eefb",
            "4003af25e21d4e47ba684c685bf2bbaf",
            "1082022a753f43298980e27cb7c1a7b3",
            "a2259359291d482ea1ad4cf8080d01b3",
            "4c1fe2f7e973437ebde9f52e20ddc7b1",
            "a37221690cd14f77933ca8b4017fbf83",
            "eec714a39c13447d92b25827c7b1606e",
            "0c0783d756e642a78e40ebc2509f5377",
            "0529d9af3adf48c19247602638a415f9",
            "c86bae43fbe3456cbb6b18ab79f946d7",
            "31f0605d26994d4891967e316aa1eb63",
            "0fd7477598ec46798781702fd053bcda",
            "e1cdecf4cbd44385a9c62aa7f8fba7b7",
            "097ba14605e34ca8b6cf384cc7736ad4",
            "f27aec6e05474c0b94aff1ae7d2f9c0b",
            "9c8a7682f9aa40d7984a2f4bdd7262cf",
            "0a2764d1a02f446db5eab574136d01f2",
            "d712be9106934d6bb7dd9109c15931fa",
            "5c25face9a49427089d96729886a5077",
            "9a4c9c81f298412898ea8eb7e1a7bcea",
            "79fa39db8204473393f21d920299b365",
            "5c38f98cc00641a5bdea1307b4958e49",
            "f306fff7aac848f3945838b1b766723d",
            "efe6cea6ee934a329d69cdba7a02cdcd",
            "d314b8b1d4784006859f69691fb225f0",
            "e385509c6e7c4910a205f6dea68e72e7",
            "0a4c41b8122c411994f9aba8df2f483d",
            "c07f7298a85a4d7595f1511990d621ca",
            "8944c84e1161497486f436945fb8851a",
            "3825a91b2e734d7d80739e2edaf0fed5",
            "051d32ee34c840389716412e169aa81f",
            "3ef56458ee2242dab27ddb54567a8391",
            "12fbee9291054795ba3182910da71e6c",
            "bcfe0042fd834f6d9486752267630ad8",
            "29e8930117334ec9ae45ca8da2231a41",
            "9f0d074f9868401db3ec69d9df7ea1ed",
            "f66c61771e7148c99d57d3c648f2f758",
            "6c45256924b84266a52ffc3a10c9a8d7",
            "d8b259e9436d4167a443d936e2de79cc",
            "7b212cfd1a0e4345be58e938b7ef3405",
            "80d8fc98c1884ddf886ff54c903ddcbb",
            "564b2bfd03bb4797bee13eb185d71e3d",
            "da28d8dcbde14869b04c6b868b689b8d",
            "be20f7bc0e6448e3ba3be4d8bee47b52",
            "84089755649d4150b41c53b61e2ae14b",
            "af73631a70a442caba0717becaddc56e",
            "76e6a2f1b7fd4f3ca2eb63879369e6cb",
            "4cdb168fefcf43fda6e607025da89af6",
            "033cdc51787a4127bfb7291d125739ef",
            "b5e8ed2195fe44bc9fc4c034446a9770",
            "32e528089b3d44adb7b9c9b065d7f72c",
            "33cbfd51a0a44cc6a9231b335a897c62",
            "b0dd1fffc3f34bb2976dd41229fda4f4",
            "b41c2049b16b48959144206e2c5272c3",
            "61bd1c89de444ab5b6acca4a3d1f6eed",
            "95695389180a48fca85d69e34ff97ff8",
            "843c466de83a46d9a6403a4f683caef3",
            "ab0791b41f1147c88bd81d5afdd22660",
            "19d795f96de848909ae9618237194e99",
            "06d17f751d1c40afa3066a6b0f4a17e0",
            "2e0f158e90f147298025b13c08790b02",
            "c893a75546864706bce8b9d3c6a19f66",
            "f13f5b27a0864e8d84772a4c1350ec8e",
            "3925037415af4095b385ecacfc8a4dcb",
            "fb0a9a4e85234754a69a2e60f714a85e",
            "7618f8aaabe54c5b94526b57f03f3667",
            "6f5c7a216d574e91855472dfe8cf4dad",
            "0f4bf9bb42484fbcac533997508bc852",
            "d68a8f5688e64fc18adddfa47cc6888a",
            "9135f50d74eb4a929ed076f2809c7bd3",
            "9d3764aece744e1aa185c35bc6e6b254",
            "cd7e2e177ff9430cb3bfc82cc86c36dc",
            "6c02838417d54bf19c810a5dd8455faf",
            "2d0a3d881fb84177a8fc5ea419d741a9",
            "23ed99205b384f91b1e1d53980277b8c",
            "181f3225e8204281ba1e787603797a86",
            "eaa0f055c339490b942a587aaa9675a3",
            "1dc841677a1c47068d5086c2fafd7433",
            "a1d203a1da4744c8807d531e37eee99a",
            "76afe771b85e441e926e5a1adcbfdfd4",
            "57a840b2da46428a8ed6ca5c5f4be09d",
            "8cf7d338e26d4ce780229cef7f68b6f5",
            "6deba1f4f0b141d0904898284b341491",
            "ff1aed9dc01e4d259c09d5ddb66470b2",
            "1a5fb7d03a4f40c1a604682559f5f514",
            "9a52efdc1b5e43fba34e7d287e1db6f1",
            "b848d81cd2724c4b8a82b187f0f42630",
            "d0d120115e7e48d5b242b5150f8e2be6"
          ]
        },
        "id": "ePy3ysF3vbQh",
        "outputId": "f8d88cbc-f9b6-4f3f-c5d2-a5fc8aca3d2f"
      },
      "execution_count": 5,
      "outputs": [
        {
          "output_type": "display_data",
          "data": {
            "text/plain": [
              "config.json: 0.00B [00:00, ?B/s]"
            ],
            "application/vnd.jupyter.widget-view+json": {
              "version_major": 2,
              "version_minor": 0,
              "model_id": "f4da9f1c4f8543a5aef27937797b67b8"
            }
          },
          "metadata": {}
        },
        {
          "output_type": "display_data",
          "data": {
            "text/plain": [
              "pytorch_model.bin:   0%|          | 0.00/605M [00:00<?, ?B/s]"
            ],
            "application/vnd.jupyter.widget-view+json": {
              "version_major": 2,
              "version_minor": 0,
              "model_id": "391954437e5a42bab9eda95046c1e9aa"
            }
          },
          "metadata": {}
        },
        {
          "output_type": "display_data",
          "data": {
            "text/plain": [
              "model.safetensors:   0%|          | 0.00/605M [00:00<?, ?B/s]"
            ],
            "application/vnd.jupyter.widget-view+json": {
              "version_major": 2,
              "version_minor": 0,
              "model_id": "b0dacc9446a7492d95bb913cf5b2eefb"
            }
          },
          "metadata": {}
        },
        {
          "output_type": "display_data",
          "data": {
            "text/plain": [
              "tokenizer_config.json:   0%|          | 0.00/592 [00:00<?, ?B/s]"
            ],
            "application/vnd.jupyter.widget-view+json": {
              "version_major": 2,
              "version_minor": 0,
              "model_id": "0fd7477598ec46798781702fd053bcda"
            }
          },
          "metadata": {}
        },
        {
          "output_type": "display_data",
          "data": {
            "text/plain": [
              "vocab.json: 0.00B [00:00, ?B/s]"
            ],
            "application/vnd.jupyter.widget-view+json": {
              "version_major": 2,
              "version_minor": 0,
              "model_id": "f306fff7aac848f3945838b1b766723d"
            }
          },
          "metadata": {}
        },
        {
          "output_type": "display_data",
          "data": {
            "text/plain": [
              "merges.txt: 0.00B [00:00, ?B/s]"
            ],
            "application/vnd.jupyter.widget-view+json": {
              "version_major": 2,
              "version_minor": 0,
              "model_id": "bcfe0042fd834f6d9486752267630ad8"
            }
          },
          "metadata": {}
        },
        {
          "output_type": "display_data",
          "data": {
            "text/plain": [
              "tokenizer.json: 0.00B [00:00, ?B/s]"
            ],
            "application/vnd.jupyter.widget-view+json": {
              "version_major": 2,
              "version_minor": 0,
              "model_id": "84089755649d4150b41c53b61e2ae14b"
            }
          },
          "metadata": {}
        },
        {
          "output_type": "display_data",
          "data": {
            "text/plain": [
              "special_tokens_map.json:   0%|          | 0.00/389 [00:00<?, ?B/s]"
            ],
            "application/vnd.jupyter.widget-view+json": {
              "version_major": 2,
              "version_minor": 0,
              "model_id": "95695389180a48fca85d69e34ff97ff8"
            }
          },
          "metadata": {}
        },
        {
          "output_type": "display_data",
          "data": {
            "text/plain": [
              "Fetching 1 files:   0%|          | 0/1 [00:00<?, ?it/s]"
            ],
            "application/vnd.jupyter.widget-view+json": {
              "version_major": 2,
              "version_minor": 0,
              "model_id": "6f5c7a216d574e91855472dfe8cf4dad"
            }
          },
          "metadata": {}
        },
        {
          "output_type": "display_data",
          "data": {
            "text/plain": [
              "preprocessor_config.json:   0%|          | 0.00/316 [00:00<?, ?B/s]"
            ],
            "application/vnd.jupyter.widget-view+json": {
              "version_major": 2,
              "version_minor": 0,
              "model_id": "1dc841677a1c47068d5086c2fafd7433"
            }
          },
          "metadata": {}
        },
        {
          "output_type": "stream",
          "name": "stderr",
          "text": [
            "Using a slow image processor as `use_fast` is unset and a slow processor was saved with this model. `use_fast=True` will be the default behavior in v4.52, even if the model was saved with a slow processor. This will result in minor differences in outputs. You'll still be able to use a slow processor with `use_fast=False`.\n",
            "Device set to use cpu\n"
          ]
        }
      ]
    },
    {
      "cell_type": "code",
      "source": [
        "image_path = \"Amit_Visa_2022.jpeg\"\n",
        "label = ['eVisa', 'passport', 'photo']\n",
        "results = image_classifier(image_path, candidate_labels=label)\n",
        "results"
      ],
      "metadata": {
        "colab": {
          "base_uri": "https://localhost:8080/",
          "height": 67
        },
        "id": "G1jXUuJwwlbh",
        "outputId": "b168e33a-eb92-48ab-a2b2-e4b4e18022dd"
      },
      "execution_count": 6,
      "outputs": [
        {
          "output_type": "execute_result",
          "data": {
            "text/plain": [
              "[{'score': 0.9997572302818298, 'label': 'passport'},\n",
              " {'score': 0.00019685605366248637, 'label': 'eVisa'},\n",
              " {'score': 4.5930421038065106e-05, 'label': 'photo'}]"
            ]
          },
          "metadata": {},
          "execution_count": 6
        }
      ]
    }
  ]
}
