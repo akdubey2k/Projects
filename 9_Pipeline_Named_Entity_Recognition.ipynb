{
  "nbformat": 4,
  "nbformat_minor": 0,
  "metadata": {
    "colab": {
      "provenance": []
    },
    "kernelspec": {
      "name": "python3",
      "display_name": "Python 3"
    },
    "language_info": {
      "name": "python"
    }
  },
  "cells": [
    {
      "cell_type": "markdown",
      "source": [
        "# Named entity recognition\n",
        "\n",
        "**Named entity recognition (NER)** is a task where the **model** has to find which parts of the input text correspond to entities such as *persons, locations, or organizations.*"
      ],
      "metadata": {
        "id": "ghNdY-eqSfpF"
      }
    },
    {
      "cell_type": "code",
      "execution_count": 2,
      "metadata": {
        "id": "VO8_o8BvSQhw"
      },
      "outputs": [],
      "source": [
        "from transformers import pipeline"
      ]
    },
    {
      "cell_type": "code",
      "source": [
        "ner = pipeline(\"ner\", model=\"dslim/bert-base-NER\", aggregation_strategy=\"simple\")"
      ],
      "metadata": {
        "colab": {
          "base_uri": "https://localhost:8080/",
          "height": 295,
          "referenced_widgets": [
            "d0be9a819a4c4161a6f4af778cef570a",
            "6cd4268196f04289a6aac49402f547fe",
            "9517fe7a5afa400180b39b4c2e99d3c2",
            "8410d3f0471d432b9c7ed8f44780ca31",
            "cd61e30091cd4a2aa41015edaad6deaf",
            "701d0e573d1048d194c26473c60d6e58",
            "bbf7f02be99f4b7fbdf887a93024951d",
            "a340d96185ad4600ab41960896ee53aa",
            "7196832bfce8493187ebd31961dc641c",
            "a8b07363377748619f56db491ed3944c",
            "a2e910f282674801b4af566482b6a05c",
            "ae2d44314f4e4033897984122c248298",
            "14dea71878e04b6c83ce45f3b829c838",
            "e4965a2964e74f2983470de9b2cb83e6",
            "9983c51b4c4746dfb707ac1f026456df",
            "4c15eb0a2ea84649a4a9c6b3b3e6763e",
            "cf99643314e944ad8b73f13300c7bbc7",
            "962c4e45baae465a829185d7e014f0c8",
            "6e3132d2d52b40d1bbbfd04694d9b6f0",
            "f169cffbef7b4fcaa2ba172983117666",
            "cabfffc6bbcd4e70a2ee0a3041cce667",
            "1ef0541f09c5426a82479270ae5493ac",
            "6fc6548eb30845c0ae3482c22ecbdba5",
            "7501d3a6fcd94f5293a937f074d00ef2",
            "a8d15536b6974ea6a2272d937f598cae",
            "10f66d4b3b3e455e9c6620cb489fbae5",
            "6241578777ca4f8c831d5c97bf3a3012",
            "610b120d2eeb456a8b711a3df6aa6f00",
            "564a458f105a4706a2e77211e9284996",
            "5ac20c16ec544b50979f580c6354fb09",
            "1be9e73beb874a7ba2e6228c7e9e5d6a",
            "91f5c3f630d541579c1ca0b1d5f7118b",
            "6f20bb232f4f458a9bb33ca5f467bc2f",
            "f587c310e4824937a95d47c731a6e980",
            "b8563f3aa79a49229eb67d6820c13389",
            "da305bf888c6470c9a7233c8511aa001",
            "224d5ea9cd5d4b219cebb43473162e40",
            "73735b0c88bc468ea5755e37d2a1b749",
            "0f1762c758b944869452596d31edac86",
            "2db2f267dc58440ab6e530d793d8a3c5",
            "845d7035aac5464bae92371b4fee5851",
            "473cb499038948ce9e5d6bfc1d35ca20",
            "c4b1ab8748ae4745ae11f80a08414656",
            "86fd36bb35a84996954e76e214f4a987",
            "51d44d5a370b4386bb45b654fde5bc25",
            "7266f2f70f43429385f1262f3d900146",
            "1afd7e0ac3c94210bd9be0d641ed9cf3",
            "9358cc6b4f03466ab7e68a2753db1eb2",
            "10d123f899b943dbbedb08bcb22e0d72",
            "bf00d09d2a0e4dd5b3ce07afae0a6c69",
            "c43f0f3046f54cff867bd11b7b06dada",
            "f4d81d463d7d43a9becda80061715618",
            "d3d345e5f44242fbac06e6c697979f88",
            "893989e8576f438fa7f758a6806a1d10",
            "c211d5aed3e04b2cbc319985dde06b2a",
            "1efe569040d448f78b3076108e3a81bc",
            "4685c7f6f84d4a15b437ef7c652aa5fb",
            "2018fe3c40064a15bc0b4800d29630cb",
            "1a749869499441d38f1c5940c54a41ff",
            "e3a26dcadd094932ace6cbad0239de80",
            "d35e6c107032470284bfdaf0676a6e1f",
            "c45f0d5929aa4f4e8bd3ae4fc031efbb",
            "dbdb66ee356f4f25bcbdd12a4b0dbb22",
            "6b936a102a214c86bbb2ec563c039e5e",
            "a8fcf44e2a4a4814bb93a692784ce5f0",
            "543664476c2447bf919fa0fa736c1a98"
          ]
        },
        "id": "59H2MWGlTLMF",
        "outputId": "e31ff7f6-f44e-4ede-889f-0998c2f0a5cf"
      },
      "execution_count": 3,
      "outputs": [
        {
          "output_type": "display_data",
          "data": {
            "text/plain": [
              "config.json:   0%|          | 0.00/829 [00:00<?, ?B/s]"
            ],
            "application/vnd.jupyter.widget-view+json": {
              "version_major": 2,
              "version_minor": 0,
              "model_id": "d0be9a819a4c4161a6f4af778cef570a"
            }
          },
          "metadata": {}
        },
        {
          "output_type": "display_data",
          "data": {
            "text/plain": [
              "model.safetensors:   0%|          | 0.00/433M [00:00<?, ?B/s]"
            ],
            "application/vnd.jupyter.widget-view+json": {
              "version_major": 2,
              "version_minor": 0,
              "model_id": "ae2d44314f4e4033897984122c248298"
            }
          },
          "metadata": {}
        },
        {
          "output_type": "stream",
          "name": "stderr",
          "text": [
            "Some weights of the model checkpoint at dslim/bert-base-NER were not used when initializing BertForTokenClassification: ['bert.pooler.dense.bias', 'bert.pooler.dense.weight']\n",
            "- This IS expected if you are initializing BertForTokenClassification from the checkpoint of a model trained on another task or with another architecture (e.g. initializing a BertForSequenceClassification model from a BertForPreTraining model).\n",
            "- This IS NOT expected if you are initializing BertForTokenClassification from the checkpoint of a model that you expect to be exactly identical (initializing a BertForSequenceClassification model from a BertForSequenceClassification model).\n"
          ]
        },
        {
          "output_type": "display_data",
          "data": {
            "text/plain": [
              "tokenizer_config.json:   0%|          | 0.00/59.0 [00:00<?, ?B/s]"
            ],
            "application/vnd.jupyter.widget-view+json": {
              "version_major": 2,
              "version_minor": 0,
              "model_id": "6fc6548eb30845c0ae3482c22ecbdba5"
            }
          },
          "metadata": {}
        },
        {
          "output_type": "display_data",
          "data": {
            "text/plain": [
              "vocab.txt: 0.00B [00:00, ?B/s]"
            ],
            "application/vnd.jupyter.widget-view+json": {
              "version_major": 2,
              "version_minor": 0,
              "model_id": "f587c310e4824937a95d47c731a6e980"
            }
          },
          "metadata": {}
        },
        {
          "output_type": "display_data",
          "data": {
            "text/plain": [
              "added_tokens.json:   0%|          | 0.00/2.00 [00:00<?, ?B/s]"
            ],
            "application/vnd.jupyter.widget-view+json": {
              "version_major": 2,
              "version_minor": 0,
              "model_id": "51d44d5a370b4386bb45b654fde5bc25"
            }
          },
          "metadata": {}
        },
        {
          "output_type": "display_data",
          "data": {
            "text/plain": [
              "special_tokens_map.json:   0%|          | 0.00/112 [00:00<?, ?B/s]"
            ],
            "application/vnd.jupyter.widget-view+json": {
              "version_major": 2,
              "version_minor": 0,
              "model_id": "1efe569040d448f78b3076108e3a81bc"
            }
          },
          "metadata": {}
        },
        {
          "output_type": "stream",
          "name": "stderr",
          "text": [
            "Device set to use cpu\n"
          ]
        }
      ]
    },
    {
      "cell_type": "code",
      "source": [
        "ner(\"I'm Amitkumar, a multi billionair business man. I'm having company in USA and listed in NYSE\")"
      ],
      "metadata": {
        "colab": {
          "base_uri": "https://localhost:8080/"
        },
        "id": "fh20y-QJTahZ",
        "outputId": "44d2391a-69a1-49b7-f611-d90c5e39a7db"
      },
      "execution_count": 4,
      "outputs": [
        {
          "output_type": "execute_result",
          "data": {
            "text/plain": [
              "[{'entity_group': 'PER',\n",
              "  'score': np.float32(0.9996797),\n",
              "  'word': 'Am',\n",
              "  'start': 4,\n",
              "  'end': 6},\n",
              " {'entity_group': 'PER',\n",
              "  'score': np.float32(0.99880207),\n",
              "  'word': '##itkumar',\n",
              "  'start': 6,\n",
              "  'end': 13},\n",
              " {'entity_group': 'LOC',\n",
              "  'score': np.float32(0.9995123),\n",
              "  'word': 'USA',\n",
              "  'start': 69,\n",
              "  'end': 72},\n",
              " {'entity_group': 'ORG',\n",
              "  'score': np.float32(0.6149147),\n",
              "  'word': 'NYSE',\n",
              "  'start': 87,\n",
              "  'end': 91}]"
            ]
          },
          "metadata": {},
          "execution_count": 4
        }
      ]
    }
  ]
}
