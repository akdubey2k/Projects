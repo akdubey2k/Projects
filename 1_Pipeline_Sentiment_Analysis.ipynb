{
  "nbformat": 4,
  "nbformat_minor": 0,
  "metadata": {
    "colab": {
      "provenance": []
    },
    "kernelspec": {
      "name": "python3",
      "display_name": "Python 3"
    },
    "language_info": {
      "name": "python"
    }
  },
  "cells": [
    {
      "cell_type": "code",
      "source": [
        "# First, install transformers if not already done\n",
        "!pip install -q transformers huggingface_hub"
      ],
      "metadata": {
        "id": "ePJbwB-tdgCm"
      },
      "execution_count": 1,
      "outputs": []
    },
    {
      "cell_type": "code",
      "execution_count": 2,
      "metadata": {
        "id": "0EKd6NVTX8Fr"
      },
      "outputs": [],
      "source": [
        "# Import necessary libraries\n",
        "from transformers import pipeline\n",
        "from huggingface_hub import login\n",
        "from google.colab import userdata\n",
        "# import os"
      ]
    },
    {
      "cell_type": "code",
      "source": [
        "# Load HF_TOKEN securely set as a secret in Colab\n",
        "# HF_TOKEN = os.getenv(\"dev-token\")\n",
        "HF_TOKEN = userdata.get('dev-token')"
      ],
      "metadata": {
        "id": "I8N-U44YeZkU"
      },
      "execution_count": 3,
      "outputs": []
    },
    {
      "cell_type": "code",
      "source": [
        "if HF_TOKEN is None:\n",
        "  print(\"HF_TOKEN secret not found. Please set it in Colab secrets first.\")\n",
        "else:\n",
        "  print(\"HF_TOKEN secret found.\")\n",
        "   # Authenticate to Hugging Face Hub using the retrieved token\n",
        "  login(HF_TOKEN)"
      ],
      "metadata": {
        "colab": {
          "base_uri": "https://localhost:8080/"
        },
        "id": "ZdIrON66ei1e",
        "outputId": "07d0acd5-ac2c-4f48-bc12-053ee4089f43"
      },
      "execution_count": 4,
      "outputs": [
        {
          "output_type": "stream",
          "name": "stdout",
          "text": [
            "HF_TOKEN secret found.\n"
          ]
        }
      ]
    },
    {
      "cell_type": "code",
      "source": [
        "# No model was supplied, defaulted to distilbert/distilbert-base-uncased-finetuned-sst-2-english and revision 714eb0f\n",
        "# classifier = pipeline(\"sentiment-analysis\")"
      ],
      "metadata": {
        "id": "6VV6vlzsZCsw"
      },
      "execution_count": 5,
      "outputs": []
    },
    {
      "cell_type": "markdown",
      "source": [
        "#### Key reasons:\n",
        "1. Trained and fine-tuned on large **English Twitter\n",
        "datasets** capturing nuanced language use.\n",
        "2. Optimized for **sentiment classification** *(positive, negative, neutral)*.\n",
        "3. Lightweight yet powerful enough for real-time applications.\n",
        "4. Widely used and supported in **Hugging Face pipelines.**"
      ],
      "metadata": {
        "id": "BwuZCDBDjW6c"
      }
    },
    {
      "cell_type": "code",
      "source": [
        "# Specify the model name you want to use for sentiment analysis\n",
        "model_name = \"cardiffnlp/twitter-roberta-base-sentiment-latest\""
      ],
      "metadata": {
        "id": "riXNcxSFicX3"
      },
      "execution_count": 6,
      "outputs": []
    },
    {
      "cell_type": "code",
      "source": [
        "classifier = pipeline(\"sentiment-analysis\", model=model_name)"
      ],
      "metadata": {
        "colab": {
          "base_uri": "https://localhost:8080/"
        },
        "id": "_a_G4CAYq8U9",
        "outputId": "b27476fa-c8aa-489e-a576-e942b4764acb"
      },
      "execution_count": 7,
      "outputs": [
        {
          "output_type": "stream",
          "name": "stderr",
          "text": [
            "/usr/local/lib/python3.12/dist-packages/huggingface_hub/utils/_auth.py:94: UserWarning: \n",
            "The secret `HF_TOKEN` does not exist in your Colab secrets.\n",
            "To authenticate with the Hugging Face Hub, create a token in your settings tab (https://huggingface.co/settings/tokens), set it as secret in your Google Colab and restart your session.\n",
            "You will be able to reuse this secret in all of your notebooks.\n",
            "Please note that authentication is recommended but still optional to access public models or datasets.\n",
            "  warnings.warn(\n",
            "Some weights of the model checkpoint at cardiffnlp/twitter-roberta-base-sentiment-latest were not used when initializing RobertaForSequenceClassification: ['roberta.pooler.dense.bias', 'roberta.pooler.dense.weight']\n",
            "- This IS expected if you are initializing RobertaForSequenceClassification from the checkpoint of a model trained on another task or with another architecture (e.g. initializing a BertForSequenceClassification model from a BertForPreTraining model).\n",
            "- This IS NOT expected if you are initializing RobertaForSequenceClassification from the checkpoint of a model that you expect to be exactly identical (initializing a BertForSequenceClassification model from a BertForSequenceClassification model).\n",
            "Device set to use cpu\n"
          ]
        }
      ]
    },
    {
      "cell_type": "code",
      "source": [
        "classifier(\"I am a world's best leader and my organization is worth of 200000000 billion usd\")"
      ],
      "metadata": {
        "colab": {
          "base_uri": "https://localhost:8080/"
        },
        "id": "lkblK4rdZk4E",
        "outputId": "909edfa8-c890-471c-c40d-8fa1b596e679"
      },
      "execution_count": 8,
      "outputs": [
        {
          "output_type": "execute_result",
          "data": {
            "text/plain": [
              "[{'label': 'positive', 'score': 0.9580754637718201}]"
            ]
          },
          "metadata": {},
          "execution_count": 8
        }
      ]
    }
  ]
}