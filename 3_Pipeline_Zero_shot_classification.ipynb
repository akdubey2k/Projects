{
  "nbformat": 4,
  "nbformat_minor": 0,
  "metadata": {
    "colab": {
      "provenance": []
    },
    "kernelspec": {
      "name": "python3",
      "display_name": "Python 3"
    },
    "language_info": {
      "name": "python"
    }
  },
  "cells": [
    {
      "cell_type": "markdown",
      "source": [
        "# Zero-shot classification\n",
        "\n",
        "We’ll start by tackling a more challenging task where we need to classify texts that haven’t been **labelled**. This is a common scenario in real-world projects because **\"annotating text\"** is usually time-consuming and requires domain expertise.\n",
        "\n",
        "For this use case, the **`zero-shot-classification` pipeline** is very powerful:\n",
        "\n",
        "it allows you to specify which **labels** to use for the **classification**, so you don’t have to rely on the *\"labels of the pretrained model\"*.\n",
        "\n",
        "You’ve already seen how the model can classify a sentence as **positive or negative** using those two labels — but it can also classify the text using any other set of labels you like."
      ],
      "metadata": {
        "id": "by7Bd3bRRv9t"
      }
    },
    {
      "cell_type": "code",
      "execution_count": 1,
      "metadata": {
        "id": "VyGu3F-sRfZA"
      },
      "outputs": [],
      "source": [
        "from transformers import pipeline"
      ]
    },
    {
      "cell_type": "code",
      "source": [
        "classifier = pipeline(\"zero-shot-classification\")"
      ],
      "metadata": {
        "colab": {
          "base_uri": "https://localhost:8080/",
          "height": 378,
          "referenced_widgets": [
            "ff8c7514f5374db3aaba2f929a565d21",
            "eccae8f2b0014c2889fa19d9e3053cbe",
            "1418593841e84beb9c7c3c00c28e6151",
            "8f1068a19d6a44fc806114772def533d",
            "2724f881458b48a794524c3ea5bbf6e1",
            "8982cab69eed4d0b94a2a041416a1fb1",
            "16a34e2a3dd640faa65abe0e822d7e24",
            "e7750fdf279b40cda5dc344f9cf6fcd9",
            "a7445f9f61b146f5b1d8ca457a8c8360",
            "41edb7e51b6f45439e1ea078f1b01330",
            "addb031c60f6444e994a3ba89bf0d37a",
            "d5451078caee43a39fbb67573fcba134",
            "64b85d74be034810a28ae1118da146be",
            "7ea93bbff2d54dce88b3e86c32d8f6b8",
            "78ec19e20b53408e8a868d0dbd66c775",
            "fdd97bd83fef4f9784f57c5ad20f689c",
            "24f02f4b3bbf4febbd48b28c8b553955",
            "d22934080b5e44108c4b08cb48c24e1a",
            "72c4acdd602644f28b19c1388ed4aa65",
            "df013daa50f14046a56b6b01a483d673",
            "f57071926fe2465d9d9f6fed16b7c9a8",
            "82dcd2d5813c42d7b0615f8a22616a12",
            "12f9c079270a434eb239319c0baa5c85",
            "6da7c509710d42ecbae7b8bc6a7e2208",
            "6d186adce1634cd9888570ec0bdb3847",
            "7fda36118679464e95f70464c100fc83",
            "e783520e87cf40ba9c7e38204d88872d",
            "52fbf38709fe432d8ed69a2663632551",
            "cc92ce61780b4f96886df540c9fd1a50",
            "40c06158f1ed46a09ca7369839fa06bb",
            "4cffc6220f064d7fa6a5704715acf641",
            "578e80f5604a480bb68d39c2e48dbdf1",
            "dd8436de3ecd4978a69c04f53d0538e1",
            "1f11e44b56e14f57bc1a92de57704e03",
            "7d22c5d1284242158ae9b028d30e4dba",
            "2484a80ceb974cf2a28eed108649fed8",
            "7393a3ef643f4371933e17ff03f43c11",
            "d603c9ed73e7454dbf413fc05e46a209",
            "778534a3033c4480a365974649d622c6",
            "361a61f8c82342e0b5160507dd7919f0",
            "ee07bb2642e144f0a2577b1d2d9a3b86",
            "53ffb8b70b0a4d2a873b73fbceca247c",
            "04103e7a57a24615b5922624624ae4b2",
            "9eb3c4b11f3d4133a7bb6e90cc2499f1",
            "1582048805434e99990bf1827c71565e",
            "f82fa220c315497bb9be0424a55e859b",
            "9268c3c0a9b947498e97aed63dd5c760",
            "28f26b0a0acc4cb49fd6575c73f971a2",
            "ced2694a0c7748889b04ae1743e96348",
            "13c3b1e52e244932a3d2e50f337645c7",
            "625e402597b6464bb6266906fa76103a",
            "18ad0c2f57c94843847739c5cc588efe",
            "177613a84d634d5e88e6f80ae65f4785",
            "107b1fb696794bfea0a1b00cddf89d33",
            "93113b3c39334fce9ee57891d3e3f429",
            "84821c52a06f483593ab1ef91f027d47",
            "75d92c056a9f4441a73b99a97ba8fdec",
            "501ae88828c240098a3d53e504453882",
            "a295c715b0be4f58940ce7366ffd14e2",
            "a00923d6dc8d4af3b5b1db76feda74b9",
            "2927323864f8487ba64ca271c431916a",
            "f70b81ac69bb43af896994511ae89fe7",
            "8078f8dcccd143fc85dd5686fdfd52c0",
            "7d11451c29264bd3a0b49d6742c9441a",
            "05d8868722cf437a957ce594ee1f4b51",
            "a4f6eeb47ab048cfa39e4f664edc35ef"
          ]
        },
        "id": "av9lgY15Scus",
        "outputId": "185dcedc-40eb-44c8-f130-a79185e04ee8"
      },
      "execution_count": 2,
      "outputs": [
        {
          "output_type": "stream",
          "name": "stderr",
          "text": [
            "No model was supplied, defaulted to facebook/bart-large-mnli and revision d7645e1 (https://huggingface.co/facebook/bart-large-mnli).\n",
            "Using a pipeline without specifying a model name and revision in production is not recommended.\n",
            "/usr/local/lib/python3.12/dist-packages/huggingface_hub/utils/_auth.py:94: UserWarning: \n",
            "The secret `HF_TOKEN` does not exist in your Colab secrets.\n",
            "To authenticate with the Hugging Face Hub, create a token in your settings tab (https://huggingface.co/settings/tokens), set it as secret in your Google Colab and restart your session.\n",
            "You will be able to reuse this secret in all of your notebooks.\n",
            "Please note that authentication is recommended but still optional to access public models or datasets.\n",
            "  warnings.warn(\n"
          ]
        },
        {
          "output_type": "display_data",
          "data": {
            "text/plain": [
              "config.json: 0.00B [00:00, ?B/s]"
            ],
            "application/vnd.jupyter.widget-view+json": {
              "version_major": 2,
              "version_minor": 0,
              "model_id": "ff8c7514f5374db3aaba2f929a565d21"
            }
          },
          "metadata": {}
        },
        {
          "output_type": "display_data",
          "data": {
            "text/plain": [
              "model.safetensors:   0%|          | 0.00/1.63G [00:00<?, ?B/s]"
            ],
            "application/vnd.jupyter.widget-view+json": {
              "version_major": 2,
              "version_minor": 0,
              "model_id": "d5451078caee43a39fbb67573fcba134"
            }
          },
          "metadata": {}
        },
        {
          "output_type": "display_data",
          "data": {
            "text/plain": [
              "tokenizer_config.json:   0%|          | 0.00/26.0 [00:00<?, ?B/s]"
            ],
            "application/vnd.jupyter.widget-view+json": {
              "version_major": 2,
              "version_minor": 0,
              "model_id": "12f9c079270a434eb239319c0baa5c85"
            }
          },
          "metadata": {}
        },
        {
          "output_type": "display_data",
          "data": {
            "text/plain": [
              "vocab.json: 0.00B [00:00, ?B/s]"
            ],
            "application/vnd.jupyter.widget-view+json": {
              "version_major": 2,
              "version_minor": 0,
              "model_id": "1f11e44b56e14f57bc1a92de57704e03"
            }
          },
          "metadata": {}
        },
        {
          "output_type": "display_data",
          "data": {
            "text/plain": [
              "merges.txt: 0.00B [00:00, ?B/s]"
            ],
            "application/vnd.jupyter.widget-view+json": {
              "version_major": 2,
              "version_minor": 0,
              "model_id": "1582048805434e99990bf1827c71565e"
            }
          },
          "metadata": {}
        },
        {
          "output_type": "display_data",
          "data": {
            "text/plain": [
              "tokenizer.json: 0.00B [00:00, ?B/s]"
            ],
            "application/vnd.jupyter.widget-view+json": {
              "version_major": 2,
              "version_minor": 0,
              "model_id": "84821c52a06f483593ab1ef91f027d47"
            }
          },
          "metadata": {}
        },
        {
          "output_type": "stream",
          "name": "stderr",
          "text": [
            "Device set to use cpu\n"
          ]
        }
      ]
    },
    {
      "cell_type": "code",
      "source": [
        "classifier([\"Amit exemplifies a dynamic leadership style, laser focused on outcome and fueled by infectious energy that drive team to exceed expectation\",\"Amit is a high-impact leader, sharp in focus, relentless in drive, and always a step ahead.\"], candidate_labels=['leadership', 'politician', 'entrepreneur', 'businessman','technologist', 'architect'])"
      ],
      "metadata": {
        "colab": {
          "base_uri": "https://localhost:8080/"
        },
        "id": "ohlHrSqhSuI1",
        "outputId": "d9a07040-12f2-4b23-da16-69e200302f9c"
      },
      "execution_count": 3,
      "outputs": [
        {
          "output_type": "execute_result",
          "data": {
            "text/plain": [
              "[{'sequence': 'Amit exemplifies a dynamic leadership style, laser focused on outcome and fueled by infectious energy that drive team to exceed expectation',\n",
              "  'labels': ['leadership',\n",
              "   'entrepreneur',\n",
              "   'businessman',\n",
              "   'architect',\n",
              "   'politician',\n",
              "   'technologist'],\n",
              "  'scores': [0.9363778829574585,\n",
              "   0.020054060965776443,\n",
              "   0.018768617883324623,\n",
              "   0.017124617472290993,\n",
              "   0.004386514890938997,\n",
              "   0.003288235515356064]},\n",
              " {'sequence': 'Amit is a high-impact leader, sharp in focus, relentless in drive, and always a step ahead.',\n",
              "  'labels': ['leadership',\n",
              "   'businessman',\n",
              "   'entrepreneur',\n",
              "   'architect',\n",
              "   'politician',\n",
              "   'technologist'],\n",
              "  'scores': [0.7972721457481384,\n",
              "   0.08693934977054596,\n",
              "   0.05499393120408058,\n",
              "   0.03206514194607735,\n",
              "   0.016450263559818268,\n",
              "   0.01227930374443531]}]"
            ]
          },
          "metadata": {},
          "execution_count": 3
        }
      ]
    },
    {
      "cell_type": "markdown",
      "source": [
        "This **pipeline** is called **`zero-shot`** because you don’t need to fine-tune the model on your data to use it. It can directly return probability scores for any list of labels you want!"
      ],
      "metadata": {
        "id": "Ej4jjgbuWkr2"
      }
    }
  ]
}
