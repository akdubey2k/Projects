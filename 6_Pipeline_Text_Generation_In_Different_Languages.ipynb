{
  "nbformat": 4,
  "nbformat_minor": 0,
  "metadata": {
    "colab": {
      "provenance": []
    },
    "kernelspec": {
      "name": "python3",
      "display_name": "Python 3"
    },
    "language_info": {
      "name": "python"
    }
  },
  "cells": [
    {
      "cell_type": "markdown",
      "source": [
        "**XGLM-564M** is a multilingual autoregressive language model (*with 564 million parameters*) trained on a balanced corpus of a diverse set of **30 languages totaling 500 billion sub-tokens.**\n",
        "\n",
        "It was introduced in the paper [`Few-shot Learning with Multilingual Language Models`](https://arxiv.org/abs/2112.10668)"
      ],
      "metadata": {
        "id": "1u-U657Z9IO8"
      }
    },
    {
      "cell_type": "code",
      "source": [
        "from transformers import pipeline\n",
        "\n",
        "generator = pipeline(\n",
        "    'text-generation',\n",
        "    model='facebook/xglm-564M',\n",
        "    device=0, # set to 0 for GPU\n",
        "    )"
      ],
      "metadata": {
        "id": "ToxfiA3Q8SNU"
      },
      "execution_count": null,
      "outputs": []
    },
    {
      "cell_type": "code",
      "execution_count": 14,
      "metadata": {
        "colab": {
          "base_uri": "https://localhost:8080/"
        },
        "id": "MHve3iNE0bXy",
        "outputId": "29f3fc58-22a1-42df-8d6e-56767b3da392"
      },
      "outputs": [
        {
          "output_type": "stream",
          "name": "stderr",
          "text": [
            "Both `max_new_tokens` (=256) and `max_length`(=100) seem to have been set. `max_new_tokens` will take precedence. Please refer to the documentation for more information. (https://huggingface.co/docs/transformers/main/en/main_classes/text_generation)\n"
          ]
        },
        {
          "output_type": "stream",
          "name": "stdout",
          "text": [
            "भारत एक महान देश है और ये दुनिया का सबसे बड़ा बाजार भी, जहां लाखों लोग अपना काम कर रहे हैं। यह हर किसी के लिए जरूरी नहीं कि वह बहुत पैसा कमा रहा हो या कोई अच्छी नौकरी की तलाश में रहता हों लेकिन हम सभी को यकीन होना चाहिए इस बात से कि आप कितना धनवान बन सकते... Read More »\n",
            "\n"
          ]
        },
        {
          "output_type": "stream",
          "name": "stderr",
          "text": [
            "Both `max_new_tokens` (=256) and `max_length`(=100) seem to have been set. `max_new_tokens` will take precedence. Please refer to the documentation for more information. (https://huggingface.co/docs/transformers/main/en/main_classes/text_generation)\n"
          ]
        },
        {
          "output_type": "stream",
          "name": "stdout",
          "text": [
            "La inteligencia artificial es un fenómeno tecnológico que ha ido cambiando la forma en que hemos de relacionarnos con el mundo que nos rodea y que en el futuro nos permitirá controlar la cantidad de información que recibimos, de la manera más precisa posible, para mejorar nuestra vida, mejorar nuestras relaciones y que el desarrollo de esta industria ha llegado a ser tan rápido que no parece que tengamos que esperar mucho, ya que es algo que podemos hacer nosotros.\n",
            "\n",
            "L'avenir de la technologie est en train de changer.\n"
          ]
        }
      ],
      "source": [
        "# Hindi\n",
        "prompt = \"भारत एक महान देश है और\"\n",
        "\n",
        "out = generator(\n",
        "    prompt,\n",
        "    max_new_tokens=250,            # limit new tokens only (do NOT pass max_length)\n",
        "    do_sample=True,\n",
        "    temperature=0.7,\n",
        "    top_p=0.92,\n",
        "    top_k=50,\n",
        "    repetition_penalty=1.15,\n",
        "    no_repeat_ngram_size=3,\n",
        "    num_return_sequences=1\n",
        ")\n",
        "\n",
        "print(out[0][\"generated_text\"])\n",
        "\n",
        "# print(generator(\"भारत एक महान देश है और\", max_new_tokens=256, do_sample=True, temperature=0.7, truncation=True)[0]['generated_text'])\n",
        "\n",
        "print()\n",
        "\n",
        "# Spanish\n",
        "print(generator(\"La inteligencia artificial es\", max_length=100, num_return_sequences=1)[0]['generated_text'])\n",
        "print()\n",
        "\n",
        "# French\n",
        "print(generator(\"L'avenir de la technologie est\", max_length=100, num_return_sequences=1)[0]['generated_text'])"
      ]
    }
  ]
}