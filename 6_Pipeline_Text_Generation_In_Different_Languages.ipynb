{
  "nbformat": 4,
  "nbformat_minor": 0,
  "metadata": {
    "colab": {
      "provenance": []
    },
    "kernelspec": {
      "name": "python3",
      "display_name": "Python 3"
    },
    "language_info": {
      "name": "python"
    }
  },
  "cells": [
    {
      "cell_type": "code",
      "source": [
        "from transformers import pipeline\n",
        "\n",
        "generator = pipeline('text-generation', model='facebook/xglm-564M')"
      ],
      "metadata": {
        "id": "ToxfiA3Q8SNU"
      },
      "execution_count": null,
      "outputs": []
    },
    {
      "cell_type": "code",
      "execution_count": 11,
      "metadata": {
        "colab": {
          "base_uri": "https://localhost:8080/"
        },
        "id": "MHve3iNE0bXy",
        "outputId": "c1827a89-4812-41a1-c9fd-6b90fcaa35f6"
      },
      "outputs": [
        {
          "output_type": "stream",
          "name": "stderr",
          "text": [
            "Both `max_new_tokens` (=256) and `max_length`(=200) seem to have been set. `max_new_tokens` will take precedence. Please refer to the documentation for more information. (https://huggingface.co/docs/transformers/main/en/main_classes/text_generation)\n",
            "Both `max_new_tokens` (=256) and `max_length`(=100) seem to have been set. `max_new_tokens` will take precedence. Please refer to the documentation for more information. (https://huggingface.co/docs/transformers/main/en/main_classes/text_generation)\n"
          ]
        },
        {
          "output_type": "stream",
          "name": "stdout",
          "text": [
            "भारत एक महान देश है और हमें इस बात की बहुत चिंता है कि यदि दुनिया के सभी देशों के साथ ऐसा हुआ तो इन सभी देशों को अलग- अलग अर्थव्यवस्था से मुक्त रखा जाएगा। और अब हमारे लिए ये एक बहुत बड़ा खतरा है।\n",
            "\n"
          ]
        },
        {
          "output_type": "stream",
          "name": "stderr",
          "text": [
            "Both `max_new_tokens` (=256) and `max_length`(=100) seem to have been set. `max_new_tokens` will take precedence. Please refer to the documentation for more information. (https://huggingface.co/docs/transformers/main/en/main_classes/text_generation)\n"
          ]
        },
        {
          "output_type": "stream",
          "name": "stdout",
          "text": [
            "La inteligencia artificial es un tipo de tecnología que consiste en desarrollar tecnología adaptada a las necesidades y preferencias de los usuarios en un proceso de aprendizaje.\n",
            "\n",
            "L'avenir de la technologie est-il dans le service client?\n"
          ]
        }
      ],
      "source": [
        "# Hindi\n",
        "print(generator(\"भारत एक महान देश है और\", max_length=200, max_new_tokens=256, do_sample=True, temperature=0.7, truncation=True)[0]['generated_text'])\n",
        "print()\n",
        "\n",
        "# Spanish\n",
        "print(generator(\"La inteligencia artificial es\", max_length=100, num_return_sequences=1)[0]['generated_text'])\n",
        "print()\n",
        "\n",
        "# French\n",
        "print(generator(\"L'avenir de la technologie est\", max_length=100, num_return_sequences=1)[0]['generated_text'])"
      ]
    }
  ]
}