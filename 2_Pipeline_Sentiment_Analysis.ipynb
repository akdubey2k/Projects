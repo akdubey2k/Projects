{
  "nbformat": 4,
  "nbformat_minor": 0,
  "metadata": {
    "colab": {
      "provenance": []
    },
    "kernelspec": {
      "name": "python3",
      "display_name": "Python 3"
    },
    "language_info": {
      "name": "python"
    }
  },
  "cells": [
    {
      "cell_type": "markdown",
      "source": [
        "# `pipeline()`\n",
        "The **pipeline()** function supports multiple modalities, allowing to work with **text, images, audio,** and **even multimodal tasks**.\n",
        "\n",
        "Here, we focus only on text tasks, but it’s useful to understand the transformer architecture’s potential, so we’ll briefly outline it."
      ],
      "metadata": {
        "id": "N9_jXp8DHj0a"
      }
    },
    {
      "cell_type": "code",
      "source": [
        "from transformers import pipeline"
      ],
      "metadata": {
        "id": "Ew7Iu_glEocA"
      },
      "execution_count": null,
      "outputs": []
    },
    {
      "cell_type": "code",
      "source": [
        "classifier = pipeline(\"sentiment-analysis\")"
      ],
      "metadata": {
        "colab": {
          "base_uri": "https://localhost:8080/"
        },
        "id": "jC0y43lNDJfF",
        "outputId": "f7564b0e-8360-4aa6-844f-d3b9c9f02062"
      },
      "execution_count": null,
      "outputs": [
        {
          "output_type": "stream",
          "name": "stderr",
          "text": [
            "No model was supplied, defaulted to distilbert/distilbert-base-uncased-finetuned-sst-2-english and revision 714eb0f (https://huggingface.co/distilbert/distilbert-base-uncased-finetuned-sst-2-english).\n",
            "Using a pipeline without specifying a model name and revision in production is not recommended.\n",
            "/usr/local/lib/python3.12/dist-packages/huggingface_hub/utils/_auth.py:94: UserWarning: \n",
            "The secret `HF_TOKEN` does not exist in your Colab secrets.\n",
            "To authenticate with the Hugging Face Hub, create a token in your settings tab (https://huggingface.co/settings/tokens), set it as secret in your Google Colab and restart your session.\n",
            "You will be able to reuse this secret in all of your notebooks.\n",
            "Please note that authentication is recommended but still optional to access public models or datasets.\n",
            "  warnings.warn(\n",
            "Device set to use cpu\n"
          ]
        }
      ]
    },
    {
      "cell_type": "markdown",
      "source": [
        "By default, this **\"pipeline\"** selects a particular *pretrained model* that has been fine-tuned for **sentiment analysis in English**.\n",
        "\n",
        "The model is **downloaded** and **cached** when we create the **classifier** object. If you rerun the command, the **cached** model will be used instead and there is no need to download the model again.\n",
        "\n",
        "### There are three main steps involved when you pass some text to a pipeline:\n",
        "1. The text is **preprocessed** into a format the model can understand.\n",
        "2. The **preprocessed** inputs are passed to the **model**.\n",
        "3. The **predictions** of the **model** are **post-processed**, so you can make sense of them."
      ],
      "metadata": {
        "id": "FwW_Spy8I7za"
      }
    },
    {
      "cell_type": "code",
      "source": [
        "classifier([\"I'm very focused and intelligent leader\", \"I have built an organization which is world's best in technology\", \"My organization is worth of more than 200000000000 Billion $\", \"I hate lazy people and who always do the procastination\", 'I like the person who is silent but highly aggressive in work'])"
      ],
      "metadata": {
        "colab": {
          "base_uri": "https://localhost:8080/"
        },
        "id": "R7JVbsJPDgrV",
        "outputId": "04e330f7-529e-4ea7-b524-8fb9ee38c69e"
      },
      "execution_count": null,
      "outputs": [
        {
          "output_type": "execute_result",
          "data": {
            "text/plain": [
              "[{'label': 'POSITIVE', 'score': 0.999874472618103},\n",
              " {'label': 'POSITIVE', 'score': 0.9998679161071777},\n",
              " {'label': 'POSITIVE', 'score': 0.9956153631210327},\n",
              " {'label': 'NEGATIVE', 'score': 0.9806041717529297},\n",
              " {'label': 'POSITIVE', 'score': 0.9760797619819641}]"
            ]
          },
          "metadata": {},
          "execution_count": 5
        }
      ]
    },
    {
      "cell_type": "markdown",
      "source": [
        "#distilbert/distilbert-base-uncased-finetuned-sst-2-english\n",
        "is a specific version of the **DistilBERT** model that has been fine-tuned for **sentiment analysis using the SST-2 dataset**, while the **revision 714eb0f** refers to a specific commit (or state) of the model's files on a platform like **Hugging Face.**\n",
        "\n",
        "The model is designed to classify text as **positive or negative,** with the **\"uncased\"** part indicating it processes text without regard to **capitalization, and \"distil\"** referring to its **smaller, distilled version** of the **larger \"BERT\" model.**\n",
        "\n",
        "### Here's a breakdown of the components:\n",
        "####distilbert\n",
        ": The name of the base language model, a distilled version of BERT, known for being smaller and faster while retaining much of BERT's performance.\n",
        "#### base\n",
        ": Indicates the size of the model.\n",
        "#### uncased\n",
        ": Means that all text is converted to lowercase before processing, so \"Hello\" and \"hello\" are treated as the same word.\n",
        "#### finetuned\n",
        ": Signifies that the model was pre-trained on a large corpus of text and then further trained (fine-tuned) on a specific dataset.\n",
        "#### sst-2-english\n",
        ": The fine-tuning task and dataset. This is the Stanford Sentiment Treebank v2 dataset, used for binary sentiment classification (positive or negative sentiment) in English text.\n",
        "#### revision 714eb0f\n",
        ": This is a specific identifier for a particular version or commit of the model's files hosted on a platform like Hugging Face. It allows users to refer to an exact state of the model, which is useful for reproducible research and deployment."
      ],
      "metadata": {
        "id": "zvRNtZhvPmkq"
      }
    },
    {
      "cell_type": "markdown",
      "source": [
        "# Text pipelines\n",
        "\n",
        "* **text-generation:** Generate text from a prompt\n",
        "* **text-classification:** Classify text into predefined categories\n",
        "* **summarization:** Create a shorter version of a text while preserving key information\n",
        "* **translation:** Translate text from one language to another\n",
        "* **zero-shot-classification:** Classify text without prior training on specific labels\n",
        "* **feature-extraction:** Extract vector representations of text"
      ],
      "metadata": {
        "id": "KMufopopQ1DZ"
      }
    }
  ]
}